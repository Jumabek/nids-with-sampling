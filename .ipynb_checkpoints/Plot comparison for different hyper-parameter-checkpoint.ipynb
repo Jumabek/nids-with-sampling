{
 "cells": [
  {
   "cell_type": "code",
   "execution_count": 1,
   "metadata": {},
   "outputs": [],
   "source": [
    "#d = 'sftp://165.246.42.249/home/juma/data/net_intrusion/CIC-IDS-2018/CSVs/whole_l/softmax_k_5'\n",
    "d = '/home/juma/data/net_intrusion/CIC-IDS-2018/CSVs/whole_l/softmax_k_5'"
   ]
  },
  {
   "cell_type": "code",
   "execution_count": 16,
   "metadata": {},
   "outputs": [],
   "source": [
    "import glob\n",
    "import os\n",
    "from os.path import join\n",
    "subdirs = [directory for directory in glob.glob(join(d,'optim*')) if os.path.isdir(directory)]"
   ]
  },
  {
   "cell_type": "code",
   "execution_count": 17,
   "metadata": {},
   "outputs": [
    {
     "data": {
      "text/plain": [
       "['/home/juma/data/net_intrusion/CIC-IDS-2018/CSVs/whole_l/softmax_k_5/optim_Adam_lr_0.003_reg_1e-05_bs_1024',\n",
       " '/home/juma/data/net_intrusion/CIC-IDS-2018/CSVs/whole_l/softmax_k_5/optim_Adam_lr_0.001_reg_1e-05_bs_1024',\n",
       " '/home/juma/data/net_intrusion/CIC-IDS-2018/CSVs/whole_l/softmax_k_5/optim_Adam_lr_0.01_reg_0_bs_1024',\n",
       " '/home/juma/data/net_intrusion/CIC-IDS-2018/CSVs/whole_l/softmax_k_5/optim_Adam_lr_0.001_reg_0_bs_2048',\n",
       " '/home/juma/data/net_intrusion/CIC-IDS-2018/CSVs/whole_l/softmax_k_5/optim_Adam_lr_0.003_reg_0_bs_1024',\n",
       " '/home/juma/data/net_intrusion/CIC-IDS-2018/CSVs/whole_l/softmax_k_5/optim_Adam_lr_0.0003_reg_0_bs_1024']"
      ]
     },
     "execution_count": 17,
     "metadata": {},
     "output_type": "execute_result"
    }
   ],
   "source": [
    "subdirs"
   ]
  },
  {
   "cell_type": "code",
   "execution_count": 25,
   "metadata": {},
   "outputs": [
    {
     "data": {
      "text/plain": [
       "['optim_Adam_lr_0.003_reg_1e-05_bs_1024',\n",
       " 'optim_Adam_lr_0.001_reg_1e-05_bs_1024',\n",
       " 'optim_Adam_lr_0.01_reg_0_bs_1024',\n",
       " 'optim_Adam_lr_0.001_reg_0_bs_2048',\n",
       " 'optim_Adam_lr_0.003_reg_0_bs_1024',\n",
       " 'optim_Adam_lr_0.0003_reg_0_bs_1024']"
      ]
     },
     "execution_count": 25,
     "metadata": {},
     "output_type": "execute_result"
    }
   ],
   "source": [
    "configs = [os.path.basename(subdir) for subdir in subdirs]\n",
    "configs"
   ]
  },
  {
   "cell_type": "code",
   "execution_count": 44,
   "metadata": {},
   "outputs": [
    {
     "name": "stdout",
     "output_type": "stream",
     "text": [
      "Index(['Label', 'Pr', 'Rc', 'F1-score'], dtype='object')\n",
      "Index(['Label', 'Pr', 'Rc', 'F1-score'], dtype='object')\n",
      "Index(['Label', 'Pr', 'Rc', 'F1-score'], dtype='object')\n",
      "Index(['Label', 'Pr', 'Rc', 'F1-score'], dtype='object')\n",
      "Index(['Label', 'Pr', 'Rc', 'F1-score'], dtype='object')\n",
      "Index(['Label', 'Pr', 'Rc', 'F1-score'], dtype='object')\n"
     ]
    }
   ],
   "source": [
    "# gets avarage score for pr,rc,f1 excluding Benign case\n",
    "import pandas as pd\n",
    "results = {}\n",
    "for i,sub in enumerate(subdirs):\n",
    "    df = pd.read_csv(join(sub,\"evaluation.csv\"))\n",
    "    df['Label'] = df['Label'].str.strip()\n",
    "    df = df[df['Label']!='Benign']\n",
    "    pr = df['Pr'].mean()\n",
    "    rc = df['Rc'].mean()\n",
    "    f1 = df['F1-score'].mean()\n",
    "    results[configs[i]]=(pr,rc,f1)"
   ]
  },
  {
   "cell_type": "code",
   "execution_count": 28,
   "metadata": {},
   "outputs": [
    {
     "name": "stdout",
     "output_type": "stream",
     "text": [
      "optim_Adam_lr_0.003_reg_1e-05_bs_1024\n",
      "optim_Adam_lr_0.001_reg_1e-05_bs_1024\n",
      "optim_Adam_lr_0.01_reg_0_bs_1024\n",
      "optim_Adam_lr_0.001_reg_0_bs_2048\n",
      "optim_Adam_lr_0.003_reg_0_bs_1024\n",
      "optim_Adam_lr_0.0003_reg_0_bs_1024\n"
     ]
    }
   ],
   "source": [
    "for key in results.keys():\n",
    "    print(res)"
   ]
  },
  {
   "cell_type": "code",
   "execution_count": null,
   "metadata": {},
   "outputs": [],
   "source": []
  }
 ],
 "metadata": {
  "kernelspec": {
   "display_name": "Python 3",
   "language": "python",
   "name": "python3"
  },
  "language_info": {
   "codemirror_mode": {
    "name": "ipython",
    "version": 3
   },
   "file_extension": ".py",
   "mimetype": "text/x-python",
   "name": "python",
   "nbconvert_exporter": "python",
   "pygments_lexer": "ipython3",
   "version": "3.6.8"
  }
 },
 "nbformat": 4,
 "nbformat_minor": 2
}
