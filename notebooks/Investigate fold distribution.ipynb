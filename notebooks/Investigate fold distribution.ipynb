{
 "cells": [
  {
   "cell_type": "code",
   "execution_count": 7,
   "metadata": {},
   "outputs": [],
   "source": [
    "import pandas as pd"
   ]
  },
  {
   "cell_type": "code",
   "execution_count": 8,
   "metadata": {},
   "outputs": [
    {
     "data": {
      "text/plain": [
       "Benign              78399\n",
       "DoS-Hulk             5064\n",
       "DDoS-HOIC            2135\n",
       "SSH-BruteForce       1162\n",
       "DDoS-LOIC-UDP         174\n",
       "DDoS-LOIC-HTTP         22\n",
       "Brute Force-XSS         9\n",
       "FTP-BruteForce          5\n",
       "Brute Force-Web         2\n",
       "DoS-SlowHTTPTest        1\n",
       "DoS-Slowloris           1\n",
       "Name: Label, dtype: int64"
      ]
     },
     "execution_count": 8,
     "metadata": {},
     "output_type": "execute_result"
    }
   ],
   "source": [
    "fn = '/data/juma/data/ids18/CSVs_r_1.0_m_1.0/SR_0.1/SFS_SI_685.08_l/fold_2.csv'\n",
    "df = pd.read_csv(fn)\n",
    "df.Label.value_counts()"
   ]
  },
  {
   "cell_type": "code",
   "execution_count": 9,
   "metadata": {},
   "outputs": [
    {
     "data": {
      "text/plain": [
       "DoS-Hulk            5421\n",
       "DDoS-HOIC           2135\n",
       "SSH-BruteForce      1162\n",
       "DDoS-LOIC-UDP        174\n",
       "DDoS-LOIC-HTTP        22\n",
       "Brute Force-XSS        9\n",
       "FTP-BruteForce         5\n",
       "Brute Force-Web        2\n",
       "DoS-SlowHTTPTest       1\n",
       "DoS-Slowloris          1\n",
       "Name: Label, dtype: int64"
      ]
     },
     "execution_count": 9,
     "metadata": {},
     "output_type": "execute_result"
    }
   ],
   "source": [
    "fn = '/data/juma/data/ids18/CSVs_r_0.1_m_1.0/SR_0.1/SFS_SI_685.08_l/fold_2.csv'\n",
    "df = pd.read_csv(fn)\n",
    "df.Label.value_counts()"
   ]
  },
  {
   "cell_type": "code",
   "execution_count": null,
   "metadata": {},
   "outputs": [],
   "source": []
  }
 ],
 "metadata": {
  "kernelspec": {
   "display_name": "Python 3",
   "language": "python",
   "name": "python3"
  },
  "language_info": {
   "codemirror_mode": {
    "name": "ipython",
    "version": 3
   },
   "file_extension": ".py",
   "mimetype": "text/x-python",
   "name": "python",
   "nbconvert_exporter": "python",
   "pygments_lexer": "ipython3",
   "version": "3.5.2"
  }
 },
 "nbformat": 4,
 "nbformat_minor": 4
}
