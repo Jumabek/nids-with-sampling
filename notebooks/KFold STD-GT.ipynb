{
 "cells": [
  {
   "cell_type": "code",
   "execution_count": 3,
   "metadata": {},
   "outputs": [],
   "source": [
    "import pandas as pd\n",
    "import os\n",
    "from os.path import join\n",
    "import numpy as np\n",
    "import math\n",
    "import ntpath\n",
    "gt_dir = '/home/juma/data/net_intrusion/CIC-IDS-2018/CSVs/without_sampling_l/'"
   ]
  },
  {
   "cell_type": "code",
   "execution_count": 4,
   "metadata": {},
   "outputs": [],
   "source": [
    "def get_sampling_dirs(a_dir, only=''):\n",
    "    if only=='':\n",
    "        return [os.path.join(a_dir, name) for name in os.listdir(a_dir) \n",
    "                if os.path.isdir(os.path.join(a_dir, name)) and name.endswith('_l')]"
   ]
  },
  {
   "cell_type": "code",
   "execution_count": 5,
   "metadata": {},
   "outputs": [],
   "source": [
    "classifier_fingerprints = [\n",
    "    'r_1_c_tree_k_5_b_explicit',\n",
    "    'r_1_c_forest_k_5_b_explicit_n_10_bootstrap_True_mf_auto',\n",
    "    'r_1_c_softmax_k_5_optim_Adam_lr_0.001_reg_0_bs_256_b_explicit',\n",
    "    'r_1_c_cnn_k_5_optim_Adam_lr_0.001_reg_0_bs_256_b_explicit']\n",
    "\n",
    "\n",
    "    "
   ]
  },
  {
   "cell_type": "code",
   "execution_count": 7,
   "metadata": {},
   "outputs": [
    {
     "name": "stdout",
     "output_type": "stream",
     "text": [
      "/home/juma/data/net_intrusion/CIC-IDS-2018/CSVs/without_sampling_l/\n",
      "                              \t|\t2.3\t|\t3.3\t|\t0.9\t|\t1.2\t|\t\n"
     ]
    }
   ],
   "source": [
    "K = 5\n",
    "for sampler in [gt_dir]:\n",
    "    print(sampler)\n",
    "    sname = ntpath.split(sampler)[1]\n",
    "    print(\"{:30}\".format(sname),end='\\t|\\t')\n",
    "    for classifier_fingerprint in classifier_fingerprints:\n",
    "        dr_l = []\n",
    "        for k in range(K):\n",
    "            df = pd.read_csv(join(sampler,classifier_fingerprint,'recall/Kfold/',str(k),'majority/detection_rate.csv'))\n",
    "            #print(df)\n",
    "            macro_avg_dt = df[df['Label']=='Macro Average of Attacks']['Rc'].values[0]\n",
    "            dr_l.append(macro_avg_dt)\n",
    "        dr_l = np.array(dr_l)\n",
    "        m = np.mean(dr_l)\n",
    "        std = math.sqrt(np.sum((dr_l - m)*(dr_l - m))/K)\n",
    "        \n",
    "        print('{:.1f}'.format(std),end='\\t|\\t')\n",
    "    print()\n",
    "        "
   ]
  },
  {
   "cell_type": "code",
   "execution_count": null,
   "metadata": {},
   "outputs": [],
   "source": []
  }
 ],
 "metadata": {
  "kernelspec": {
   "display_name": "Python 3",
   "language": "python",
   "name": "python3"
  },
  "language_info": {
   "codemirror_mode": {
    "name": "ipython",
    "version": 3
   },
   "file_extension": ".py",
   "mimetype": "text/x-python",
   "name": "python",
   "nbconvert_exporter": "python",
   "pygments_lexer": "ipython3",
   "version": "3.6.8"
  }
 },
 "nbformat": 4,
 "nbformat_minor": 2
}
