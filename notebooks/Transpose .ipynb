{
 "cells": [
  {
   "cell_type": "code",
   "execution_count": 2,
   "metadata": {},
   "outputs": [],
   "source": [
    "import pandas as pd\n",
    "import os\n",
    "from os.path import join\n",
    "from glob import glob"
   ]
  },
  {
   "cell_type": "code",
   "execution_count": 16,
   "metadata": {},
   "outputs": [
    {
     "name": "stdout",
     "output_type": "stream",
     "text": [
      "/data/juma/data/ids18/CSVs_r_1.0_m_1.0/SR_0.1/dr_any.csv\n",
      "/data/juma/data/ids18/CSVs_r_1.0_m_1.0/SR_0.1/dr_all.csv\n",
      "/data/juma/data/ids18/CSVs_r_1.0_m_1.0/SR_0.1/far_any.csv\n",
      "/data/juma/data/ids18/CSVs_r_1.0_m_1.0/SR_0.1/far_all.csv\n"
     ]
    }
   ],
   "source": [
    "dataroot = '/data/juma/data/ids18/CSVs_r_1.0_m_1.0/SR_0.1/'\n",
    "for fn in glob(join(dataroot,'*.csv')):\n",
    "    if '_T.csv' in fn:\n",
    "        continue\n",
    "    #fn = join(d,'observation_rate.csv')\n",
    "    df = pd.read_csv(fn)\n",
    "    df.transpose().to_csv(fn.replace('.csv','_T.csv'))\n",
    "    print(fn)"
   ]
  },
  {
   "cell_type": "code",
   "execution_count": null,
   "metadata": {},
   "outputs": [],
   "source": []
  }
 ],
 "metadata": {
  "kernelspec": {
   "display_name": "Python 3",
   "language": "python",
   "name": "python3"
  },
  "language_info": {
   "codemirror_mode": {
    "name": "ipython",
    "version": 3
   },
   "file_extension": ".py",
   "mimetype": "text/x-python",
   "name": "python",
   "nbconvert_exporter": "python",
   "pygments_lexer": "ipython3",
   "version": "3.5.2"
  }
 },
 "nbformat": 4,
 "nbformat_minor": 4
}
