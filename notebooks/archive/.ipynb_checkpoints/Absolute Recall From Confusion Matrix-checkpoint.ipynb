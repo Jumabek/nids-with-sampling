{
 "cells": [
  {
   "cell_type": "code",
   "execution_count": 6,
   "metadata": {},
   "outputs": [],
   "source": [
    "import numpy as np\n",
    "import pandas as pd\n",
    "import os\n",
    "from os.path import join\n",
    "import csv\n"
   ]
  },
  {
   "cell_type": "code",
   "execution_count": 7,
   "metadata": {},
   "outputs": [],
   "source": [
    "def get_classifier_subdirs(a_dir, only=''):\n",
    "    if only=='':\n",
    "        return [os.path.join(a_dir, name) for name in os.listdir(a_dir) \n",
    "                if os.path.isdir(os.path.join(a_dir, name)) and name.endswith('_k_5')]\n"
   ]
  },
  {
   "cell_type": "code",
   "execution_count": 8,
   "metadata": {},
   "outputs": [],
   "source": [
    "def get_immediate_subdirs(a_dir, only=''):\n",
    "    if only=='':\n",
    "        return [os.path.join(a_dir, name) for name in os.listdir(a_dir) \n",
    "                if os.path.isdir(os.path.join(a_dir, name)) and name.endswith('_l')]\n"
   ]
  },
  {
   "cell_type": "code",
   "execution_count": 9,
   "metadata": {},
   "outputs": [],
   "source": [
    "def get_num_det(cm,attack_name):\n",
    "    #print(cm.loc[cm['Unnamed: 0']==attack_name])\n",
    "    if attack_name not in cm:\n",
    "        return 0\n",
    "    \n",
    "    row = cm.loc[cm['Unnamed: 0']==attack_name,]    \n",
    "    c = row[attack_name]\n",
    "    return c.values[0]"
   ]
  },
  {
   "cell_type": "code",
   "execution_count": 10,
   "metadata": {},
   "outputs": [],
   "source": [
    "filename = '/home/juma/data/net_intrusion/CIC-IDS-2018/whole_l/tree_k_5/cm_nonnorm_fold_avg.csv'\n",
    "whole_cm = pd.read_csv(filename)"
   ]
  },
  {
   "cell_type": "code",
   "execution_count": 11,
   "metadata": {},
   "outputs": [],
   "source": [
    "attack_names = whole_cm['Unnamed: 0'].values"
   ]
  },
  {
   "cell_type": "code",
   "execution_count": 12,
   "metadata": {},
   "outputs": [],
   "source": [
    "attack_names = attack_names[1:]"
   ]
  },
  {
   "cell_type": "code",
   "execution_count": 13,
   "metadata": {},
   "outputs": [
    {
     "data": {
      "text/plain": [
       "array(['Brute Force-Web', 'Brute Force-XSS', 'DDoS attacks-LOIC-HTTP',\n",
       "       'DDoS-HOIC', 'DDoS-LOIC-UDP', 'DoS-GoldenEye', 'DoS-Hulk',\n",
       "       'DoS-SlowHTTPTest', 'DoS-Slowloris', 'FTP-BruteForce',\n",
       "       'Infiltration', 'SQL Injection', 'SSH-BruteForce'], dtype=object)"
      ]
     },
     "execution_count": 13,
     "metadata": {},
     "output_type": "execute_result"
    }
   ],
   "source": [
    "attack_names"
   ]
  },
  {
   "cell_type": "code",
   "execution_count": null,
   "metadata": {},
   "outputs": [],
   "source": []
  },
  {
   "cell_type": "code",
   "execution_count": 73,
   "metadata": {},
   "outputs": [],
   "source": [
    "def print_absolute_recall(cm,label_names,filename):\n",
    "    eps = 0.000000000005\n",
    "    K = 5\n",
    "    df = pd.read_csv('/home/juma/data/net_intrusion/CIC-IDS-2018/whole_l/label_dist.csv',names=['Label','Count'],header=None)\n",
    "\n",
    "    with open(filename,'w') as f:\n",
    "        w = csv.writer(f)\n",
    "        w.writerow(['Label','Rc'])\n",
    "\n",
    "        m_rc = 0\n",
    "        for i,label in enumerate(label_names):\n",
    "            tp = get_num_det(cm,label)\n",
    "            total_count = df[df['Label']==label]['Count'].values[0]\n",
    "            total_test_count = total_count*1./K\n",
    "            rc = tp/(total_test_count)\n",
    "            w.writerow([\"{}\".format(label),'{:.4f}'.format(rc)])\n",
    "\n",
    "            m_rc += rc\n",
    "        n = len(label_names)\n",
    "        w.writerow([\"{}\".format('Macro avg'),'{:.4f}'.format(m_rc/n)])\n"
   ]
  },
  {
   "cell_type": "code",
   "execution_count": 74,
   "metadata": {},
   "outputs": [
    {
     "name": "stdout",
     "output_type": "stream",
     "text": [
      "-----------------------------------------\n",
      "/home/juma/data/net_intrusion/CIC-IDS-2018/CSVs_unlimited_cache/SR_1/sk_sr_95.33_l\n",
      "*************************************\n",
      "/home/juma/data/net_intrusion/CIC-IDS-2018/CSVs_unlimited_cache/SR_1/sk_sr_95.33_l/forest_k_5\n",
      "*************************************\n",
      "/home/juma/data/net_intrusion/CIC-IDS-2018/CSVs_unlimited_cache/SR_1/sk_sr_95.33_l/adaboost_k_5\n",
      "*************************************\n",
      "/home/juma/data/net_intrusion/CIC-IDS-2018/CSVs_unlimited_cache/SR_1/sk_sr_95.33_l/cnn_k_5\n",
      "*************************************\n",
      "/home/juma/data/net_intrusion/CIC-IDS-2018/CSVs_unlimited_cache/SR_1/sk_sr_95.33_l/tree_k_5\n",
      "*************************************\n",
      "/home/juma/data/net_intrusion/CIC-IDS-2018/CSVs_unlimited_cache/SR_1/sk_sr_95.33_l/softmax_k_5\n",
      "-----------------------------------------\n",
      "/home/juma/data/net_intrusion/CIC-IDS-2018/CSVs_unlimited_cache/SR_1/sel_(25,1,25)_l\n",
      "*************************************\n",
      "/home/juma/data/net_intrusion/CIC-IDS-2018/CSVs_unlimited_cache/SR_1/sel_(25,1,25)_l/forest_k_5\n",
      "*************************************\n",
      "/home/juma/data/net_intrusion/CIC-IDS-2018/CSVs_unlimited_cache/SR_1/sel_(25,1,25)_l/adaboost_k_5\n",
      "*************************************\n",
      "/home/juma/data/net_intrusion/CIC-IDS-2018/CSVs_unlimited_cache/SR_1/sel_(25,1,25)_l/cnn_k_5\n",
      "*************************************\n",
      "/home/juma/data/net_intrusion/CIC-IDS-2018/CSVs_unlimited_cache/SR_1/sel_(25,1,25)_l/tree_k_5\n",
      "*************************************\n",
      "/home/juma/data/net_intrusion/CIC-IDS-2018/CSVs_unlimited_cache/SR_1/sel_(25,1,25)_l/softmax_k_5\n",
      "-----------------------------------------\n",
      "/home/juma/data/net_intrusion/CIC-IDS-2018/CSVs_unlimited_cache/SR_1/ffs_(4,8,32)_l\n",
      "*************************************\n",
      "/home/juma/data/net_intrusion/CIC-IDS-2018/CSVs_unlimited_cache/SR_1/ffs_(4,8,32)_l/forest_k_5\n",
      "*************************************\n",
      "/home/juma/data/net_intrusion/CIC-IDS-2018/CSVs_unlimited_cache/SR_1/ffs_(4,8,32)_l/adaboost_k_5\n",
      "*************************************\n",
      "/home/juma/data/net_intrusion/CIC-IDS-2018/CSVs_unlimited_cache/SR_1/ffs_(4,8,32)_l/cnn_k_5\n",
      "*************************************\n",
      "/home/juma/data/net_intrusion/CIC-IDS-2018/CSVs_unlimited_cache/SR_1/ffs_(4,8,32)_l/tree_k_5\n",
      "*************************************\n",
      "/home/juma/data/net_intrusion/CIC-IDS-2018/CSVs_unlimited_cache/SR_1/ffs_(4,8,32)_l/softmax_k_5\n",
      "-----------------------------------------\n",
      "/home/juma/data/net_intrusion/CIC-IDS-2018/CSVs_unlimited_cache/SR_1/sgs_e_0.095_l\n",
      "*************************************\n",
      "/home/juma/data/net_intrusion/CIC-IDS-2018/CSVs_unlimited_cache/SR_1/sgs_e_0.095_l/forest_k_5\n",
      "*************************************\n",
      "/home/juma/data/net_intrusion/CIC-IDS-2018/CSVs_unlimited_cache/SR_1/sgs_e_0.095_l/adaboost_k_5\n",
      "*************************************\n",
      "/home/juma/data/net_intrusion/CIC-IDS-2018/CSVs_unlimited_cache/SR_1/sgs_e_0.095_l/cnn_k_5\n",
      "*************************************\n",
      "/home/juma/data/net_intrusion/CIC-IDS-2018/CSVs_unlimited_cache/SR_1/sgs_e_0.095_l/tree_k_5\n",
      "*************************************\n",
      "/home/juma/data/net_intrusion/CIC-IDS-2018/CSVs_unlimited_cache/SR_1/sgs_e_0.095_l/softmax_k_5\n",
      "-----------------------------------------\n",
      "/home/juma/data/net_intrusion/CIC-IDS-2018/CSVs_unlimited_cache/SR_1/sf_sr_100_l\n",
      "*************************************\n",
      "/home/juma/data/net_intrusion/CIC-IDS-2018/CSVs_unlimited_cache/SR_1/sf_sr_100_l/forest_k_5\n",
      "*************************************\n",
      "/home/juma/data/net_intrusion/CIC-IDS-2018/CSVs_unlimited_cache/SR_1/sf_sr_100_l/adaboost_k_5\n",
      "*************************************\n",
      "/home/juma/data/net_intrusion/CIC-IDS-2018/CSVs_unlimited_cache/SR_1/sf_sr_100_l/cnn_k_5\n",
      "*************************************\n",
      "/home/juma/data/net_intrusion/CIC-IDS-2018/CSVs_unlimited_cache/SR_1/sf_sr_100_l/tree_k_5\n",
      "*************************************\n",
      "/home/juma/data/net_intrusion/CIC-IDS-2018/CSVs_unlimited_cache/SR_1/sf_sr_100_l/softmax_k_5\n",
      "-----------------------------------------\n",
      "/home/juma/data/net_intrusion/CIC-IDS-2018/CSVs_unlimited_cache/SR_1/whole_l\n",
      "*************************************\n",
      "/home/juma/data/net_intrusion/CIC-IDS-2018/CSVs_unlimited_cache/SR_1/whole_l/forest_k_5\n",
      "*************************************\n",
      "/home/juma/data/net_intrusion/CIC-IDS-2018/CSVs_unlimited_cache/SR_1/whole_l/adaboost_k_5\n",
      "*************************************\n",
      "/home/juma/data/net_intrusion/CIC-IDS-2018/CSVs_unlimited_cache/SR_1/whole_l/cnn_k_5\n",
      "*************************************\n",
      "/home/juma/data/net_intrusion/CIC-IDS-2018/CSVs_unlimited_cache/SR_1/whole_l/tree_k_5\n",
      "*************************************\n",
      "/home/juma/data/net_intrusion/CIC-IDS-2018/CSVs_unlimited_cache/SR_1/whole_l/softmax_k_5\n"
     ]
    }
   ],
   "source": [
    "root = '/home/juma/data/net_intrusion/CIC-IDS-2018/CSVs_mem_1.0/SR_1'\n",
    "data_dirs = get_immediate_subdirs(root)\n",
    "for data_dir in data_dirs:\n",
    "    print('-----------------------------------------')\n",
    "    print(data_dir)\n",
    "    classifier_dirs = get_classifier_subdirs(data_dir)\n",
    "    for classifier_dir in classifier_dirs:\n",
    "        print('*************************************')\n",
    "        print(classifier_dir)\n",
    "        cm_filename = join(classifier_dir,'cm_nonnorm_fold_avg.csv')\n",
    "        cm = pd.read_csv(cm_filename)\n",
    "        rc_filename=  cm_filename.replace('cm_nonnorm_fold_avg.csv','absolute_recall.csv')\n",
    "        print_absolute_recall(cm,attack_names,rc_filename)        "
   ]
  },
  {
   "cell_type": "code",
   "execution_count": null,
   "metadata": {},
   "outputs": [],
   "source": []
  }
 ],
 "metadata": {
  "kernelspec": {
   "display_name": "Python 3",
   "language": "python",
   "name": "python3"
  },
  "language_info": {
   "codemirror_mode": {
    "name": "ipython",
    "version": 3
   },
   "file_extension": ".py",
   "mimetype": "text/x-python",
   "name": "python",
   "nbconvert_exporter": "python",
   "pygments_lexer": "ipython3",
   "version": "3.6.8"
  }
 },
 "nbformat": 4,
 "nbformat_minor": 2
}
