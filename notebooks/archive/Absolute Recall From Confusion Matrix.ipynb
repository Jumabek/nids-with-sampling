{
 "cells": [
  {
   "cell_type": "code",
   "execution_count": 1,
   "metadata": {},
   "outputs": [],
   "source": [
    "import numpy as np\n",
    "import pandas as pd\n",
    "import os\n",
    "from os.path import join\n",
    "import csv\n"
   ]
  },
  {
   "cell_type": "code",
   "execution_count": 2,
   "metadata": {},
   "outputs": [],
   "source": [
    "def get_classifier_subdirs(a_dir, only=''):\n",
    "    if only=='':\n",
    "        return [os.path.join(a_dir, name) for name in os.listdir(a_dir) \n",
    "                if os.path.isdir(os.path.join(a_dir, name)) and ('_k_5_' in name)]\n"
   ]
  },
  {
   "cell_type": "code",
   "execution_count": 3,
   "metadata": {},
   "outputs": [],
   "source": [
    "def get_immediate_subdirs(a_dir, only=''):\n",
    "    if only=='':\n",
    "        return [os.path.join(a_dir, name) for name in os.listdir(a_dir) \n",
    "                if os.path.isdir(os.path.join(a_dir, name)) and name.endswith('_l')]\n"
   ]
  },
  {
   "cell_type": "code",
   "execution_count": 4,
   "metadata": {},
   "outputs": [],
   "source": [
    "def get_num_det(cm,attack_name):\n",
    "    #print(cm.loc[cm['Unnamed: 0']==attack_name])\n",
    "    if attack_name not in cm:\n",
    "        return 0\n",
    "    \n",
    "    row = cm.loc[cm['Unnamed: 0']==attack_name,]    \n",
    "    c = row[attack_name]\n",
    "    return c.values[0]"
   ]
  },
  {
   "cell_type": "code",
   "execution_count": null,
   "metadata": {},
   "outputs": [],
   "source": []
  },
  {
   "cell_type": "code",
   "execution_count": 13,
   "metadata": {},
   "outputs": [],
   "source": [
    "def print_absolute_recall(cm,label_names,filename):\n",
    "    eps = 0.000000000005\n",
    "    K =5\n",
    "    df = pd.read_csv('/home/juma/data/net_intrusion/CIC-IDS-2018/without_sampling/whole_l/label_dist.csv',names=['Label','Count'],header=None)\n",
    "    all_label_names = df['Label'].values\n",
    "    with open(filename,'w') as f:\n",
    "        w = csv.writer(f)\n",
    "        w.writerow(['Label','Rc'])\n",
    "\n",
    "        m_rc = 0\n",
    "        index=1\n",
    "        for i,label in enumerate(all_label_names):\n",
    "\n",
    "            if label in label_names:\n",
    "                tp = get_num_det(cm,label)\n",
    "                index+=1\n",
    "            else:\n",
    "                tp = 0\n",
    "            total_count = df[df['Label']==label]['Count'].values[0]\n",
    "            total_test_count = total_count*1./K\n",
    "            rc = tp/(total_test_count)\n",
    "\n",
    "            w.writerow([\"{}\".format(label),'{:.4f}'.format(rc)])\n",
    "            \n",
    "            #if label != 'Benign':\n",
    "            m_rc += rc\n",
    "\n",
    "        n = len(label_names)\n",
    "        w.writerow([\"{}\".format('Macro avg'),'{:.4f}'.format(m_rc/n)])\n"
   ]
  },
  {
   "cell_type": "code",
   "execution_count": 14,
   "metadata": {},
   "outputs": [
    {
     "data": {
      "text/plain": [
       "array(['Benign', 'Brute Force-Web', 'Brute Force-XSS',\n",
       "       'DDoS attacks-LOIC-HTTP', 'DDoS-HOIC', 'DDoS-LOIC-UDP',\n",
       "       'DoS-GoldenEye', 'DoS-Hulk', 'DoS-SlowHTTPTest', 'DoS-Slowloris',\n",
       "       'FTP-BruteForce', 'Infiltration', 'SQL Injection',\n",
       "       'SSH-BruteForce'], dtype=object)"
      ]
     },
     "execution_count": 14,
     "metadata": {},
     "output_type": "execute_result"
    }
   ],
   "source": [
    "    df = pd.read_csv('/home/juma/data/net_intrusion/CIC-IDS-2018/without_sampling/whole_l/label_dist.csv',names=['Label','Count'],header=None)\n",
    "    all_label_names = df['Label'].values \n",
    "    all_label_names"
   ]
  },
  {
   "cell_type": "code",
   "execution_count": 17,
   "metadata": {},
   "outputs": [
    {
     "name": "stdout",
     "output_type": "stream",
     "text": [
      "['/home/juma/data/net_intrusion/CIC-IDS-2018/without_sampling/whole_l']\n",
      "-----------------------------------------\n",
      "/home/juma/data/net_intrusion/CIC-IDS-2018/without_sampling/whole_l\n",
      "classifier dirs\n",
      "['/home/juma/data/net_intrusion/CIC-IDS-2018/without_sampling/whole_l/cnn_k_5_bs_5120', '/home/juma/data/net_intrusion/CIC-IDS-2018/without_sampling/whole_l/cnn_k_5_128', '/home/juma/data/net_intrusion/CIC-IDS-2018/without_sampling/whole_l/cnn_k_5_bs_16_w', '/home/juma/data/net_intrusion/CIC-IDS-2018/without_sampling/whole_l/cnn_k_5_bs_5120_w', '/home/juma/data/net_intrusion/CIC-IDS-2018/without_sampling/whole_l/cnn_k_5_bs_16', '/home/juma/data/net_intrusion/CIC-IDS-2018/without_sampling/whole_l/cnn_k_5_w_optim_Adam_lr_0.001_reg_1e-05_bs_128', '/home/juma/data/net_intrusion/CIC-IDS-2018/without_sampling/whole_l/cnn_k_5_bs_64_w']\n",
      "*************************************\n",
      "/home/juma/data/net_intrusion/CIC-IDS-2018/without_sampling/whole_l/cnn_k_5_w_optim_Adam_lr_0.001_reg_1e-05_bs_128\n"
     ]
    }
   ],
   "source": [
    "root = '/home/juma/data/net_intrusion/CIC-IDS-2018/without_sampling/'\n",
    "data_dirs = get_immediate_subdirs(root)\n",
    "print(data_dirs)\n",
    "for data_dir in data_dirs:\n",
    "    print('-----------------------------------------')\n",
    "    print(data_dir)\n",
    "    classifier_dirs = get_classifier_subdirs(data_dir)\n",
    "    print(\"classifier dirs\")\n",
    "    print(classifier_dirs)\n",
    "    for classifier_dir in classifier_dirs:\n",
    "        if 'bs_128' not in classifier_dir:\n",
    "            continue        \n",
    "        print('*************************************')\n",
    "        print(classifier_dir)\n",
    "        cm_filename = join(classifier_dir,'cm_nonnorm_fold_avg.csv')\n",
    "        cm = pd.read_csv(cm_filename)\n",
    "        rc_filename=  cm_filename.replace('cm_nonnorm_fold_avg.csv','absolute_recall.csv')\n",
    "        print_absolute_recall(cm,all_label_names,rc_filename)        "
   ]
  },
  {
   "cell_type": "code",
   "execution_count": null,
   "metadata": {},
   "outputs": [],
   "source": [
    "cm_filename = join('/home/juma/data/net_intrusion/CIC-IDS-2018/CSVs_mem_SF_r_1/SR_1/ffs_(4,8,32)_l/forest_k_5','cm_nonnorm_fold_avg.csv')"
   ]
  },
  {
   "cell_type": "code",
   "execution_count": null,
   "metadata": {},
   "outputs": [],
   "source": []
  }
 ],
 "metadata": {
  "kernelspec": {
   "display_name": "Python 3",
   "language": "python",
   "name": "python3"
  },
  "language_info": {
   "codemirror_mode": {
    "name": "ipython",
    "version": 3
   },
   "file_extension": ".py",
   "mimetype": "text/x-python",
   "name": "python",
   "nbconvert_exporter": "python",
   "pygments_lexer": "ipython3",
   "version": "3.6.8"
  }
 },
 "nbformat": 4,
 "nbformat_minor": 2
}
