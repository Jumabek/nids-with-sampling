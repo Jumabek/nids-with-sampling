{
 "cells": [
  {
   "cell_type": "code",
   "execution_count": 2,
   "metadata": {},
   "outputs": [],
   "source": [
    "import pandas as pd\n",
    "from os.path import join\n",
    "import numpy as np"
   ]
  },
  {
   "cell_type": "code",
   "execution_count": 58,
   "metadata": {},
   "outputs": [],
   "source": [
    "def get_multi_record_percentage(dataroot,fn):\n",
    "    df = pd.read_csv(join(dataroot,fn),usecols=['Flow ID','Label','Dst Port'])    \n",
    "    g = df.groupby(['Flow ID','Label'])\n",
    "    n = g.ngroups\n",
    "    a = g.size()\n",
    "    \n",
    "    #a[a>1].count()/n*100\n",
    "    not_benign = (a.index.get_level_values(1)!='Benign')\n",
    "    multi_recordFlow_percentage = a[not_benign & (a>1)].count()/n*100\n",
    "    return round(multi_recordFlow_percentage,2)"
   ]
  },
  {
   "cell_type": "code",
   "execution_count": 62,
   "metadata": {},
   "outputs": [
    {
     "name": "stdout",
     "output_type": "stream",
     "text": [
      "LDAP.csv 4.58 3.66 0.92\n",
      "MSSQL.csv 3.32 2.45 0.87\n",
      "NetBIOS.csv 5.53 4.73 0.8\n",
      "SYN.csv 13.15 9.78 3.37\n",
      "UDP.csv 7.57 0.01 7.56\n",
      "UDP-Lag.csv 0.45 0.0 0.45\n",
      "2.328333333333333\n"
     ]
    }
   ],
   "source": [
    "dataroot1 = '/data/juma/data/ddos/CSVs_r_1.0/SR_10/SGS_e_0.0028/PCAP-03-11_l'\n",
    "dataroot2 = '/data/juma/data/ddos/CSVs_r_1e-05/SR_10/SGS_e_0.0028/PCAP-03-11_l'\n",
    "\n",
    "filenames = ['LDAP.csv','MSSQL.csv','NetBIOS.csv','SYN.csv','UDP.csv','UDP-Lag.csv']\n",
    "m=0\n",
    "for fn in filenames:\n",
    "    multiRecordFlow1 = get_multi_record_percentage(dataroot1,fn)\n",
    "    multiRecordFlow2 = get_multi_record_percentage(dataroot2,fn)\n",
    "    diff = round(multiRecordFlow2-multiRecordFlow1,2)\n",
    "    m+=diff\n",
    "    print(fn, multiRecordFlow2,multiRecordFlow1,diff)\n",
    "print(m/len(filenames))"
   ]
  }
 ],
 "metadata": {
  "kernelspec": {
   "display_name": "Python 3",
   "language": "python",
   "name": "python3"
  },
  "language_info": {
   "codemirror_mode": {
    "name": "ipython",
    "version": 3
   },
   "file_extension": ".py",
   "mimetype": "text/x-python",
   "name": "python",
   "nbconvert_exporter": "python",
   "pygments_lexer": "ipython3",
   "version": "3.5.2"
  }
 },
 "nbformat": 4,
 "nbformat_minor": 2
}
