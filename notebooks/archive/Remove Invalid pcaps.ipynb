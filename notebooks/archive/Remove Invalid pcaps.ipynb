{
 "cells": [
  {
   "cell_type": "code",
   "execution_count": 1,
   "metadata": {},
   "outputs": [],
   "source": [
    "import subprocess\n",
    "import os\n",
    "from os.path import join\n",
    "from glob import glob\n",
    "from tqdm import tqdm\n",
    "import ntpath"
   ]
  },
  {
   "cell_type": "code",
   "execution_count": 22,
   "metadata": {},
   "outputs": [],
   "source": [
    "dataroot = '/mnt/disk3/net_intrusion/ids18/traffic/Thursday-01-03-2018/filtered_pcap'\n",
    "output_root = '/mnt/disk3/net_intrusion/ids18/traffic/Thursday-01-03-2018/filtered_pcap'\n",
    "if not os.path.exists(output_root):\n",
    "    os.makedirs(output_root)"
   ]
  },
  {
   "cell_type": "code",
   "execution_count": 23,
   "metadata": {},
   "outputs": [],
   "source": [
    "def is_on_2018(str_output):\n",
    "    return str_output.count('2018-')==2"
   ]
  },
  {
   "cell_type": "code",
   "execution_count": 24,
   "metadata": {},
   "outputs": [
    {
     "name": "stderr",
     "output_type": "stream",
     "text": [
      "\n",
      "  0%|          | 0/413 [00:00<?, ?it/s]\u001b[A"
     ]
    },
    {
     "name": "stdout",
     "output_type": "stream",
     "text": [
      "/mnt/disk3/net_intrusion/ids18/traffic/Thursday-01-03-2018/filtered_pcap/UCAP172.31.69.7\n"
     ]
    },
    {
     "name": "stderr",
     "output_type": "stream",
     "text": [
      "\r",
      "  0%|          | 0/413 [00:00<?, ?it/s]"
     ]
    },
    {
     "name": "stdout",
     "output_type": "stream",
     "text": [
      "Str File name:           /mnt/disk3/net_intrusion/ids18/traffic/Thursday-01-03-2018/filtered_pcap/UCAP172.31.69.7\n",
      "First packet time:   2018-03-01 21:19:24.573049\n",
      "Last packet time:    2018-03-02 06:29:48.491474\n",
      " b'File name:           /mnt/disk3/net_intrusion/ids18/traffic/Thursday-01-03-2018/filtered_pcap/UCAP172.31.69.7\\nFirst packet time:   2018-03-01 21:19:24.573049\\nLast packet time:    2018-03-02 06:29:48.491474\\n'\n"
     ]
    },
    {
     "name": "stderr",
     "output_type": "stream",
     "text": [
      "\n"
     ]
    }
   ],
   "source": [
    "for fn in tqdm(glob(join(dataroot,'*'))):\n",
    "    print(fn)\n",
    "    output = subprocess.run(['capinfos','-a','-e',fn], stdout=subprocess.PIPE) \n",
    "    str_output = str(output.stdout, 'utf-8')\n",
    "    print(\"Str\", str_output,output.stdout)\n",
    "    break\n",
    "    if is_on_2018(str_output):\n",
    "        dest_fn = fn.replace(dataroot, output_root)\n",
    "        os.rename(fn,dest_fn)\n",
    "    else:\n",
    "        pass\n",
    "        #print(\"it is not on that day\")\n",
    "        #print(str_output)"
   ]
  },
  {
   "cell_type": "code",
   "execution_count": 61,
   "metadata": {},
   "outputs": [],
   "source": [
    "with open(join(ntpath.split(dataroot)[0],'date_corrupted_files.csv'),'w') as f:\n",
    "    for arg in corrupted_files:\n",
    "        f.write('{}\\n'.format(arg))"
   ]
  },
  {
   "cell_type": "code",
   "execution_count": null,
   "metadata": {},
   "outputs": [],
   "source": []
  },
  {
   "cell_type": "code",
   "execution_count": null,
   "metadata": {},
   "outputs": [],
   "source": []
  },
  {
   "cell_type": "code",
   "execution_count": 25,
   "metadata": {},
   "outputs": [],
   "source": [
    "fn = '/mnt/disk3/net_intrusion/ids18/traffic/Thursday-01-03-2018-join.pcap'"
   ]
  },
  {
   "cell_type": "code",
   "execution_count": 26,
   "metadata": {},
   "outputs": [],
   "source": [
    "output = subprocess.run(['capinfos','-a','-e',fn], stdout=subprocess.PIPE) "
   ]
  },
  {
   "cell_type": "code",
   "execution_count": null,
   "metadata": {},
   "outputs": [],
   "source": []
  }
 ],
 "metadata": {
  "kernelspec": {
   "display_name": "Python 3",
   "language": "python",
   "name": "python3"
  },
  "language_info": {
   "codemirror_mode": {
    "name": "ipython",
    "version": 3
   },
   "file_extension": ".py",
   "mimetype": "text/x-python",
   "name": "python",
   "nbconvert_exporter": "python",
   "pygments_lexer": "ipython3",
   "version": "3.6.9"
  }
 },
 "nbformat": 4,
 "nbformat_minor": 2
}
