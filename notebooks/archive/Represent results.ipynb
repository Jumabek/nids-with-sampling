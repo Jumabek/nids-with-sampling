{
 "cells": [
  {
   "cell_type": "code",
   "execution_count": 41,
   "metadata": {},
   "outputs": [],
   "source": [
    "from glob import glob\n",
    "import os\n",
    "from os.path import join\n",
    "from numpy import genfromtxt\n",
    "import numpy as np\n",
    "import pandas as pd\n",
    "import math\n",
    "import matplotlib.pyplot as plt\n",
    "import csv\n",
    "%matplotlib inline"
   ]
  },
  {
   "cell_type": "code",
   "execution_count": 83,
   "metadata": {},
   "outputs": [],
   "source": [
    "DET_METRIC = 'any'\n",
    "def get_dr(sdir,clf_d):\n",
    "        fn = join(sdir,clf_d,'recall','fold_test{}.csv'.format(DET_METRIC))\n",
    "        df = pd.read_csv(fn)\n",
    "        dr = df.loc[df['Label']=='Macro Average of Attacks','Rc'].values[0]\n",
    "        return dr\n",
    "\n",
    "\n",
    "def get_sampled_ben_dr(sdir,clf_d):\n",
    "        fn = join(sdir,clf_d,'eval','fold_test{}.csv'.format(DET_METRIC))\n",
    "        df = pd.read_csv(fn)\n",
    "        det_rate = df.loc[df['Label']=='Benign','Rc'].values[0]\n",
    "        return det_rate\n",
    "\n",
    "def get_benign_obsr_rate(sdir):\n",
    "        fn = join(sdir,'observation_rate.csv')\n",
    "        df = pd.read_csv(fn)\n",
    "        ben_obsr_rate = df.loc[df['Label']=='Benign','Observation rate'].values[0]     \n",
    "        return ben_obsr_rate\n",
    "        \n",
    "def get_far(sdir,clf_d):\n",
    "    sampled_benign_det_rate = get_sampled_ben_dr(sdir,clf_d)\n",
    "    sampled_far = 100.-sampled_benign_det_rate\n",
    "    ben_obsr_rate = get_benign_obsr_rate(sdir)\n",
    "    far = sampled_far* ben_obsr_rate/100.\n",
    "    return round(far,2)"
   ]
  },
  {
   "cell_type": "code",
   "execution_count": 84,
   "metadata": {},
   "outputs": [],
   "source": [
    "def get_sampler_name(sdir):\n",
    "    dir_name  = os.path.basename(sdir)\n",
    "    sampler_name = dir_name[:dir_name.find('_')]\n",
    "    return sampler_name\n",
    "\n",
    "\n",
    "def write_dr(dataroot,dr_results):\n",
    "    with open (join(dataroot,'dr_{}.csv'.format(DET_METRIC)),'w') as csvfile:\n",
    "        w = csv.writer(csvfile)\n",
    "        w.writerow(['Sampling technique','DT','RF','CNN'])\n",
    "\n",
    "        if DET_METRIC=='any':\n",
    "            w.writerow(['NS',99.09, 99.09, 96.74 ])\n",
    "        elif DET_METRIC == 'all':\n",
    "            w.writerow(['NS',81.95, 89.94, 96.22])\n",
    "            \n",
    "        for key in sorted(dr_results.keys()):\n",
    "            w.writerow([key]+dr_results[key])\n",
    "        \n",
    "\n",
    "def write_far(dataroot,far_results):\n",
    "    with open (join(dataroot,'far_{}.csv'.format(DET_METRIC)),'w') as csvfile:\n",
    "        w = csv.writer(csvfile)\n",
    "        w.writerow(['Sampling technique','DT','RF','CNN'])\n",
    "\n",
    "        if DET_METRIC=='any':\n",
    "            w.writerow(['NS', 0.12, 0,  0.05])\n",
    "        elif DET_METRIC == 'all':\n",
    "            w.writerow(['NS', 2.44, 0.34, 2.89])\n",
    "\n",
    "        for key in sorted(far_results.keys()):\n",
    "            w.writerow([key]+far_results[key])"
   ]
  },
  {
   "cell_type": "code",
   "execution_count": 90,
   "metadata": {},
   "outputs": [],
   "source": [
    "dataroot = '/data/juma/data/ids18/CSVs_r_1.0_m_1.0/SR_0.1/'\n",
    "clf_dirs = ['c_tree_b_explicit_mf_auto_msl_3_md_25',\n",
    "            'c_forest_b_explicit_n_100_bootstrap_True_mf_auto_msl_3_ms_0.01_md_25',\n",
    "            'c_cnn_optim_Adam_lr_0.001_reg_0_bs_1024_b_explicit']\n",
    "\n",
    "dr_results = {}\n",
    "far_results = {}\n",
    "for sdir in sorted(glob(join(dataroot,'*_l'))):\n",
    "    dr_list = []\n",
    "    far_list = []\n",
    "    for clf_d in clf_dirs:\n",
    "        dr_list.append(get_dr(sdir,clf_d))\n",
    "        far_list.append(get_far(sdir,clf_d))\n",
    "        \n",
    "    dr_results[get_sampler_name(sdir)] = dr_list\n",
    "    far_results[get_sampler_name(sdir)] = far_list\n",
    "    \n",
    "write_dr(dataroot,dr_results)\n",
    "write_far(dataroot,far_results)"
   ]
  },
  {
   "cell_type": "code",
   "execution_count": 54,
   "metadata": {},
   "outputs": [],
   "source": []
  },
  {
   "cell_type": "code",
   "execution_count": 55,
   "metadata": {},
   "outputs": [],
   "source": []
  },
  {
   "cell_type": "code",
   "execution_count": null,
   "metadata": {},
   "outputs": [],
   "source": []
  },
  {
   "cell_type": "code",
   "execution_count": null,
   "metadata": {},
   "outputs": [],
   "source": []
  },
  {
   "cell_type": "code",
   "execution_count": null,
   "metadata": {},
   "outputs": [],
   "source": []
  }
 ],
 "metadata": {
  "kernelspec": {
   "display_name": "Python 3",
   "language": "python",
   "name": "python3"
  },
  "language_info": {
   "codemirror_mode": {
    "name": "ipython",
    "version": 3
   },
   "file_extension": ".py",
   "mimetype": "text/x-python",
   "name": "python",
   "nbconvert_exporter": "python",
   "pygments_lexer": "ipython3",
   "version": "3.5.2"
  }
 },
 "nbformat": 4,
 "nbformat_minor": 2
}
