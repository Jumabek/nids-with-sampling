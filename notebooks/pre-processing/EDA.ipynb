{
 "cells": [
  {
   "cell_type": "markdown",
   "metadata": {},
   "source": [
    "## distributiion of features"
   ]
  },
  {
   "cell_type": "code",
   "execution_count": 93,
   "metadata": {},
   "outputs": [],
   "source": [
    "from glob import glob\n",
    "import pandas as pd\n",
    "from os.path import join\n",
    "from tqdm import tqdm\n",
    "import numpy as np"
   ]
  },
  {
   "cell_type": "code",
   "execution_count": 168,
   "metadata": {},
   "outputs": [],
   "source": [
    "\n",
    "D = '/data/juma/data/net_intrusion/ids18/CSVs_r_1.0_m_1.0/WS_l'\n",
    "features = [ 'Flow Duration', 'Dst Port', 'Protocol',\n",
    "       'Tot Fwd Pkts', 'Tot Bwd Pkts', 'TotLen Fwd Pkts', 'TotLen Bwd Pkts',\n",
    "       'Fwd Pkt Len Max', 'Fwd Pkt Len Min', 'Fwd Pkt Len Mean',\n",
    "       'Fwd Pkt Len Std', 'Bwd Pkt Len Max', 'Bwd Pkt Len Min',\n",
    "       'Bwd Pkt Len Mean', 'Bwd Pkt Len Std', 'Flow Byts/s', 'Flow Pkts/s',\n",
    "       'Flow IAT Mean', 'Flow IAT Std', 'Flow IAT Max', 'Flow IAT Min',\n",
    "       'Fwd IAT Tot', 'Fwd IAT Mean', 'Fwd IAT Std', 'Fwd IAT Max',\n",
    "       'Fwd IAT Min', 'Bwd IAT Tot', 'Bwd IAT Mean', 'Bwd IAT Std',\n",
    "       'Bwd IAT Max', 'Bwd IAT Min', 'Fwd PSH Flags', 'Bwd PSH Flags',\n",
    "       'Fwd URG Flags', 'Bwd URG Flags', 'Fwd Header Len', 'Bwd Header Len',\n",
    "       'Fwd Pkts/s', 'Bwd Pkts/s', 'Pkt Len Min', 'Pkt Len Max',\n",
    "       'Pkt Len Mean', 'Pkt Len Std', 'Pkt Len Var', 'FIN Flag Cnt',\n",
    "       'SYN Flag Cnt', 'RST Flag Cnt', 'PSH Flag Cnt', 'ACK Flag Cnt',\n",
    "       'URG Flag Cnt', 'CWE Flag Count', 'ECE Flag Cnt', 'Down/Up Ratio',\n",
    "       'Pkt Size Avg', 'Fwd Seg Size Avg', 'Bwd Seg Size Avg',\n",
    "       'Fwd Byts/b Avg', 'Fwd Pkts/b Avg', 'Fwd Blk Rate Avg',\n",
    "       'Bwd Byts/b Avg', 'Bwd Pkts/b Avg', 'Bwd Blk Rate Avg',\n",
    "       'Subflow Fwd Pkts', 'Subflow Fwd Byts', 'Subflow Bwd Pkts',\n",
    "       'Subflow Bwd Byts', 'Init Fwd Win Byts', 'Init Bwd Win Byts',\n",
    "       'Fwd Act Data Pkts', 'Fwd Seg Size Min', 'Active Mean', 'Active Std',\n",
    "       'Active Max', 'Active Min', 'Idle Mean', 'Idle Std', 'Idle Max',\n",
    "       'Idle Min']\n",
    "\n",
    "dtypes = {'Flow ID':str , 'Dst Port':int , 'Protocol':int, 'Timestamp': str,\n",
    "       'Flow Duration':int , 'Tot Fwd Pkts':int , 'Tot Bwd Pkts': int,\n",
    "       'TotLen Fwd Pkts':int , 'TotLen Bwd Pkts':int , 'Fwd Pkt Len Max':int,\n",
    "       'Fwd Pkt Len Min':int , 'Fwd Pkt Len Mean':float , 'Fwd Pkt Len Std':float,\n",
    "       'Bwd Pkt Len Max':int , 'Bwd Pkt Len Min':int , 'Bwd Pkt Len Mean':float,\n",
    "       'Bwd Pkt Len Std':float , 'Flow Byts/s':float , 'Flow Pkts/s':float, 'Flow IAT Mean':float,\n",
    "       'Flow IAT Std':float , 'Flow IAT Max':int , 'Flow IAT Min':int , 'Fwd IAT Tot':int,\n",
    "       'Fwd IAT Mean':float , 'Fwd IAT Std':float , 'Fwd IAT Max':int , 'Fwd IAT Min':int,\n",
    "       'Bwd IAT Tot':int , 'Bwd IAT Mean':float , 'Bwd IAT Std':float , 'Bwd IAT Max':int,\n",
    "       'Bwd IAT Min':int , 'Fwd PSH Flags':int , 'Bwd PSH Flags':int , 'Fwd URG Flags':int,\n",
    "       'Bwd URG Flags':int , 'Fwd Header Len':int , 'Bwd Header Len':int , 'Fwd Pkts/s':float,\n",
    "       'Bwd Pkts/s':float , 'Pkt Len Min':int , 'Pkt Len Max':int , 'Pkt Len Mean':float,\n",
    "       'Pkt Len Std':float , 'Pkt Len Var':float , 'FIN Flag Cnt':int , 'SYN Flag Cnt':int,\n",
    "       'RST Flag Cnt':int , 'PSH Flag Cnt':int , 'ACK Flag Cnt':int , 'URG Flag Cnt':int,\n",
    "       'CWE Flag Count':int , 'ECE Flag Cnt':int , 'Down/Up Ratio':float , 'Pkt Size Avg':float,\n",
    "       'Fwd Seg Size Avg':float , 'Bwd Seg Size Avg':float , 'Fwd Byts/b Avg':float,\n",
    "       'Fwd Pkts/b Avg':float , 'Fwd Blk Rate Avg':float , 'Bwd Byts/b Avg':float,\n",
    "       'Bwd Pkts/b Avg':float , 'Bwd Blk Rate Avg':float , 'Subflow Fwd Pkts':float,\n",
    "       'Subflow Fwd Byts':float , 'Subflow Bwd Pkts':float , 'Subflow Bwd Byts':float,\n",
    "       'Init Fwd Win Byts':int , 'Init Bwd Win Byts':int , 'Fwd Act Data Pkts':int,\n",
    "       'Fwd Seg Size Min':int , 'Active Mean':float , 'Active Std':float , 'Active Max':float,\n",
    "       'Active Min':float , 'Idle Mean':float , 'Idle Std':float , 'Idle Max':float , 'Idle Min':float , 'Label':'category'}\n",
    "\n"
   ]
  },
  {
   "cell_type": "code",
   "execution_count": 169,
   "metadata": {},
   "outputs": [
    {
     "data": {
      "text/plain": [
       "81"
      ]
     },
     "execution_count": 169,
     "metadata": {},
     "output_type": "execute_result"
    }
   ],
   "source": [
    "len(dtypes)"
   ]
  },
  {
   "cell_type": "code",
   "execution_count": 172,
   "metadata": {},
   "outputs": [
    {
     "name": "stderr",
     "output_type": "stream",
     "text": [
      "\n",
      "  0%|          | 0/9 [00:00<?, ?it/s]\u001b[A\n",
      " 11%|█         | 1/9 [01:08<09:06, 68.37s/it]\u001b[A\n",
      " 22%|██▏       | 2/9 [02:46<10:02, 86.14s/it]\u001b[A\n",
      " 33%|███▎      | 3/9 [04:37<09:42, 97.11s/it]\u001b[A\n",
      " 44%|████▍     | 4/9 [06:28<08:34, 102.88s/it]\u001b[A\n",
      " 56%|█████▌    | 5/9 [07:52<06:23, 95.98s/it] \u001b[A\n",
      " 67%|██████▋   | 6/9 [09:19<04:38, 92.93s/it]\u001b[A\n",
      " 78%|███████▊  | 7/9 [11:20<03:24, 102.24s/it]\u001b[A\n",
      " 89%|████████▉ | 8/9 [12:53<01:39, 99.12s/it] \u001b[A\n",
      "100%|██████████| 9/9 [14:16<00:00, 95.18s/it]\u001b[A\n"
     ]
    }
   ],
   "source": [
    "df = pd.concat([pd.read_csv(fn, dtype=dtypes, usecols=features).sample(frac=0.1) for fn in tqdm(glob(join(D,'*_CICFlowMeter.csv')))])"
   ]
  },
  {
   "cell_type": "code",
   "execution_count": 173,
   "metadata": {},
   "outputs": [],
   "source": [
    "micro_sec_features = ['Flow Duration', 'Flow IAT Mean', 'Flow IAT Std', 'Flow IAT Max', 'Flow IAT Min',\n",
    "       'Fwd IAT Tot', 'Fwd IAT Mean', 'Fwd IAT Std', 'Fwd IAT Max',\n",
    "       'Fwd IAT Min', 'Bwd IAT Tot', 'Bwd IAT Mean', 'Bwd IAT Std',\n",
    "       'Bwd IAT Max', 'Bwd IAT Min','Active Mean', 'Active Std',\n",
    "       'Active Max', 'Active Min', 'Idle Mean', 'Idle Std', 'Idle Max',\n",
    "       'Idle Min'] \n",
    "for c in micro_sec_features:\n",
    "    df[c] = df[c]/10**6\n"
   ]
  },
  {
   "cell_type": "code",
   "execution_count": null,
   "metadata": {},
   "outputs": [],
   "source": []
  },
  {
   "cell_type": "code",
   "execution_count": 174,
   "metadata": {},
   "outputs": [
    {
     "data": {
      "text/html": [
       "<div>\n",
       "<style scoped>\n",
       "    .dataframe tbody tr th:only-of-type {\n",
       "        vertical-align: middle;\n",
       "    }\n",
       "\n",
       "    .dataframe tbody tr th {\n",
       "        vertical-align: top;\n",
       "    }\n",
       "\n",
       "    .dataframe thead th {\n",
       "        text-align: right;\n",
       "    }\n",
       "</style>\n",
       "<table border=\"1\" class=\"dataframe\">\n",
       "  <thead>\n",
       "    <tr style=\"text-align: right;\">\n",
       "      <th></th>\n",
       "      <th>ind</th>\n",
       "      <th>feature</th>\n",
       "      <th>mean</th>\n",
       "      <th>std</th>\n",
       "    </tr>\n",
       "  </thead>\n",
       "  <tbody>\n",
       "    <tr>\n",
       "      <th>0</th>\n",
       "      <td>1</td>\n",
       "      <td>Dst Port</td>\n",
       "      <td>1.011380e+03</td>\n",
       "      <td>2.587750e+03</td>\n",
       "    </tr>\n",
       "    <tr>\n",
       "      <th>1</th>\n",
       "      <td>2</td>\n",
       "      <td>Protocol</td>\n",
       "      <td>8.710000e+00</td>\n",
       "      <td>4.740000e+00</td>\n",
       "    </tr>\n",
       "    <tr>\n",
       "      <th>2</th>\n",
       "      <td>3</td>\n",
       "      <td>Flow Duration</td>\n",
       "      <td>4.390000e+00</td>\n",
       "      <td>1.883000e+01</td>\n",
       "    </tr>\n",
       "    <tr>\n",
       "      <th>3</th>\n",
       "      <td>4</td>\n",
       "      <td>Tot Fwd Pkts</td>\n",
       "      <td>6.650000e+00</td>\n",
       "      <td>6.386500e+02</td>\n",
       "    </tr>\n",
       "    <tr>\n",
       "      <th>4</th>\n",
       "      <td>5</td>\n",
       "      <td>Tot Bwd Pkts</td>\n",
       "      <td>6.430000e+00</td>\n",
       "      <td>1.517600e+02</td>\n",
       "    </tr>\n",
       "    <tr>\n",
       "      <th>...</th>\n",
       "      <td>...</td>\n",
       "      <td>...</td>\n",
       "      <td>...</td>\n",
       "      <td>...</td>\n",
       "    </tr>\n",
       "    <tr>\n",
       "      <th>73</th>\n",
       "      <td>74</td>\n",
       "      <td>Active Min</td>\n",
       "      <td>2.600000e-01</td>\n",
       "      <td>1.340000e+00</td>\n",
       "    </tr>\n",
       "    <tr>\n",
       "      <th>74</th>\n",
       "      <td>75</td>\n",
       "      <td>Idle Mean</td>\n",
       "      <td>1.264791e+09</td>\n",
       "      <td>4.013297e+08</td>\n",
       "    </tr>\n",
       "    <tr>\n",
       "      <th>75</th>\n",
       "      <td>76</td>\n",
       "      <td>Idle Std</td>\n",
       "      <td>3.015633e+08</td>\n",
       "      <td>4.701660e+08</td>\n",
       "    </tr>\n",
       "    <tr>\n",
       "      <th>76</th>\n",
       "      <td>77</td>\n",
       "      <td>Idle Max</td>\n",
       "      <td>1.519234e+09</td>\n",
       "      <td>4.257207e+05</td>\n",
       "    </tr>\n",
       "    <tr>\n",
       "      <th>77</th>\n",
       "      <td>78</td>\n",
       "      <td>Idle Min</td>\n",
       "      <td>1.059421e+09</td>\n",
       "      <td>6.979620e+08</td>\n",
       "    </tr>\n",
       "  </tbody>\n",
       "</table>\n",
       "<p>78 rows × 4 columns</p>\n",
       "</div>"
      ],
      "text/plain": [
       "    ind        feature          mean           std\n",
       "0     1       Dst Port  1.011380e+03  2.587750e+03\n",
       "1     2       Protocol  8.710000e+00  4.740000e+00\n",
       "2     3  Flow Duration  4.390000e+00  1.883000e+01\n",
       "3     4   Tot Fwd Pkts  6.650000e+00  6.386500e+02\n",
       "4     5   Tot Bwd Pkts  6.430000e+00  1.517600e+02\n",
       "..  ...            ...           ...           ...\n",
       "73   74     Active Min  2.600000e-01  1.340000e+00\n",
       "74   75      Idle Mean  1.264791e+09  4.013297e+08\n",
       "75   76       Idle Std  3.015633e+08  4.701660e+08\n",
       "76   77       Idle Max  1.519234e+09  4.257207e+05\n",
       "77   78       Idle Min  1.059421e+09  6.979620e+08\n",
       "\n",
       "[78 rows x 4 columns]"
      ]
     },
     "execution_count": 174,
     "metadata": {},
     "output_type": "execute_result"
    }
   ],
   "source": [
    "res = df.describe().loc[['mean','std']].round(2)\n",
    "res = res.transpose().reset_index()\n",
    "res = res.rename(columns={'index':'feature'})\n",
    "res.insert(0,'ind',np.arange(1,res.shape[0]+1))\n",
    "res"
   ]
  },
  {
   "cell_type": "code",
   "execution_count": 175,
   "metadata": {},
   "outputs": [],
   "source": [
    "res.to_csv('feature_distribution.csv',index=False)"
   ]
  },
  {
   "cell_type": "markdown",
   "metadata": {},
   "source": [
    "## Features with zero mean and std"
   ]
  },
  {
   "cell_type": "code",
   "execution_count": 155,
   "metadata": {},
   "outputs": [
    {
     "data": {
      "text/plain": [
       "Fwd Byts/b Avg\n",
       "0.0               9215156\n",
       "dtype: int64"
      ]
     },
     "execution_count": 155,
     "metadata": {},
     "output_type": "execute_result"
    }
   ],
   "source": [
    "df.iloc[:,df.columns.isin(['Fwd Byts/b Avg'])].value_counts()"
   ]
  },
  {
   "cell_type": "code",
   "execution_count": 156,
   "metadata": {},
   "outputs": [
    {
     "data": {
      "text/plain": [
       "Fwd Pkts/b Avg\n",
       "0.0               9215156\n",
       "dtype: int64"
      ]
     },
     "execution_count": 156,
     "metadata": {},
     "output_type": "execute_result"
    }
   ],
   "source": [
    "df.iloc[:,df.columns.isin(['Fwd Pkts/b Avg'])].value_counts()"
   ]
  },
  {
   "cell_type": "code",
   "execution_count": 157,
   "metadata": {},
   "outputs": [
    {
     "data": {
      "text/plain": [
       "Fwd Blk Rate Avg\n",
       "0.0                 9215156\n",
       "dtype: int64"
      ]
     },
     "execution_count": 157,
     "metadata": {},
     "output_type": "execute_result"
    }
   ],
   "source": [
    "df.iloc[:,df.columns.isin(['Fwd Blk Rate Avg'])].value_counts()"
   ]
  },
  {
   "cell_type": "code",
   "execution_count": 159,
   "metadata": {},
   "outputs": [
    {
     "data": {
      "text/plain": [
       "Bwd Byts/b Avg\n",
       "0.0               9215156\n",
       "dtype: int64"
      ]
     },
     "execution_count": 159,
     "metadata": {},
     "output_type": "execute_result"
    }
   ],
   "source": [
    "df.iloc[:,df.columns.isin(['Bwd Byts/b Avg'])].value_counts()"
   ]
  },
  {
   "cell_type": "code",
   "execution_count": 161,
   "metadata": {},
   "outputs": [
    {
     "data": {
      "text/plain": [
       "Subflow Fwd Pkts\n",
       "0.0                 9215156\n",
       "dtype: int64"
      ]
     },
     "execution_count": 161,
     "metadata": {},
     "output_type": "execute_result"
    }
   ],
   "source": [
    "df.iloc[:,df.columns.isin(['Subflow Fwd Pkts'])].value_counts()"
   ]
  },
  {
   "cell_type": "code",
   "execution_count": 162,
   "metadata": {},
   "outputs": [
    {
     "data": {
      "text/plain": [
       "Init Fwd Win Byts\n",
       "-1                   9215156\n",
       "dtype: int64"
      ]
     },
     "execution_count": 162,
     "metadata": {},
     "output_type": "execute_result"
    }
   ],
   "source": [
    "df.iloc[:,df.columns.isin(['Init Fwd Win Byts'])].value_counts()"
   ]
  },
  {
   "cell_type": "code",
   "execution_count": null,
   "metadata": {},
   "outputs": [],
   "source": []
  },
  {
   "cell_type": "code",
   "execution_count": 163,
   "metadata": {},
   "outputs": [
    {
     "data": {
      "text/plain": [
       "Fwd Seg Size Min\n",
       "0                   9215156\n",
       "dtype: int64"
      ]
     },
     "execution_count": 163,
     "metadata": {},
     "output_type": "execute_result"
    }
   ],
   "source": [
    "df.iloc[:,df.columns.isin(['Fwd Seg Size Min'])].value_counts()"
   ]
  },
  {
   "cell_type": "code",
   "execution_count": 164,
   "metadata": {},
   "outputs": [
    {
     "data": {
      "text/plain": [
       "Fwd PSH Flags\n",
       "0                9215156\n",
       "dtype: int64"
      ]
     },
     "execution_count": 164,
     "metadata": {},
     "output_type": "execute_result"
    }
   ],
   "source": [
    "df.iloc[:,df.columns.isin(['Fwd PSH Flags'])].value_counts()"
   ]
  },
  {
   "cell_type": "code",
   "execution_count": null,
   "metadata": {},
   "outputs": [],
   "source": []
  },
  {
   "cell_type": "code",
   "execution_count": 165,
   "metadata": {},
   "outputs": [
    {
     "data": {
      "text/plain": [
       "Fwd URG Flags\n",
       "0                9215156\n",
       "dtype: int64"
      ]
     },
     "execution_count": 165,
     "metadata": {},
     "output_type": "execute_result"
    }
   ],
   "source": [
    "df.iloc[:,df.columns.isin(['Fwd URG Flags'])].value_counts()"
   ]
  },
  {
   "cell_type": "code",
   "execution_count": 166,
   "metadata": {},
   "outputs": [
    {
     "data": {
      "text/plain": [
       "Bwd URG Flags\n",
       "0                9214952\n",
       "1                    204\n",
       "dtype: int64"
      ]
     },
     "execution_count": 166,
     "metadata": {},
     "output_type": "execute_result"
    }
   ],
   "source": [
    "df.iloc[:,df.columns.isin(['Bwd URG Flags'])].value_counts()"
   ]
  },
  {
   "cell_type": "code",
   "execution_count": null,
   "metadata": {},
   "outputs": [],
   "source": []
  },
  {
   "cell_type": "code",
   "execution_count": null,
   "metadata": {},
   "outputs": [],
   "source": []
  },
  {
   "cell_type": "code",
   "execution_count": null,
   "metadata": {},
   "outputs": [],
   "source": []
  },
  {
   "cell_type": "markdown",
   "metadata": {},
   "source": [
    "## Attempt to plot R plot for the distributions"
   ]
  },
  {
   "cell_type": "code",
   "execution_count": null,
   "metadata": {},
   "outputs": [],
   "source": [
    "%load_ext rpy2"
   ]
  },
  {
   "cell_type": "code",
   "execution_count": null,
   "metadata": {},
   "outputs": [],
   "source": [
    "%%R \n",
    "library (tibble)\n",
    "library(dplyr)\n",
    "library(forcats)\n",
    "library(tidyr)\n",
    "library(purrr)\n",
    "library(psych)\n",
    "library(stringr)\n",
    "library(ggplot2)\n",
    "library(ggridges)\n",
    "library(viridis)\n",
    "\n",
    "THEME_DEFAULT <- theme_bw(\n",
    "    base_size=10,\n",
    "    base_family='Arial'\n",
    ") +\n",
    "theme(\n",
    "    axis.title.x=element_text(colour=\"grey20\",size=13,angle=0,hjust=.5,vjust=.5, face=\"bold\"),\n",
    "    axis.title.y=element_text(colour=\"grey20\",size=13,angle=90,hjust=.5,vjust=1, face=\"bold\"),\n",
    "    axis.text.x=element_text(colour=\"grey20\",size=11,angle=0,hjust=.5,vjust=.5),\n",
    "    axis.text.y=element_text(colour=\"grey20\",size=11,angle=0,hjust=.5,vjust=.5),\n",
    "    strip.text.x=element_text(colour=\"grey20\",size=13,angle=0,hjust=0.5,vjust=.25, face=\"bold\"),\n",
    "    strip.text.y=element_text(colour=\"grey20\",size=13,angle=270,hjust=.5,vjust=.5, face=\"bold\"),\n",
    "    legend.title=element_text(colour=\"grey20\",size=13,angle=0,hjust=0.5,vjust=.5,face=\"bold\"),\n",
    "    legend.position='top'\n",
    ")"
   ]
  },
  {
   "cell_type": "code",
   "execution_count": 113,
   "metadata": {},
   "outputs": [
    {
     "data": {
      "image/png": "[encoded data removed]"
     },
     "metadata": {},
     "output_type": "display_data"
    }
   ],
   "source": [
    "%%R -i df_small -i outfile -w 30 -h 12 -u cm\n",
    "\n",
    "p<-ggplot(df_small, aes(y=Label,x=flow_duration_log,fill=Label)) +\n",
    "geom_density_ridges(alpha=0.2, bandwidth=4) +\n",
    "scale_fill_viridis(discrete=TRUE) +\n",
    "scale_color_viridis(discrete=TRUE) +\n",
    "THEME_DEFAULT + \n",
    "#         labs(\n",
    "#             x='Flow Duration in sec.(logscale base 10)',\n",
    "#             y='Values'\n",
    "#         ) + \n",
    "theme(\n",
    "    legend.position='bottom',\n",
    "    panel.grid.major.y = element_line(size=0.25, linetype='solid', color='grey'),\n",
    "    panel.grid.minor.y = element_line(size=0.01, linetype='solid', color='grey'),\n",
    ")+\n",
    "    guides(color=guide_legend(nrow=2,byrow=TRUE))\n",
    "\n",
    "#ggsave(paste(outfile,'.eps'),plot=p, width=30,h=12)\n",
    "p"
   ]
  },
  {
   "cell_type": "code",
   "execution_count": null,
   "metadata": {},
   "outputs": [],
   "source": []
  }
 ],
 "metadata": {
  "kernelspec": {
   "display_name": "Python [conda env:nids] *",
   "language": "python",
   "name": "conda-env-nids-py"
  },
  "language_info": {
   "codemirror_mode": {
    "name": "ipython",
    "version": 3
   },
   "file_extension": ".py",
   "mimetype": "text/x-python",
   "name": "python",
   "nbconvert_exporter": "python",
   "pygments_lexer": "ipython3",
   "version": "3.7.10"
  }
 },
 "nbformat": 4,
 "nbformat_minor": 4
}
