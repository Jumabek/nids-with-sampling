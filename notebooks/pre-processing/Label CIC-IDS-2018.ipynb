{
 "cells": [
  {
   "cell_type": "code",
   "execution_count": 1,
   "metadata": {},
   "outputs": [],
   "source": [
    "import os\n",
    "import glob\n",
    "import pandas as pd\n",
    "from os.path import join\n",
    "import numpy as np\n",
    "from datetime import datetime\n",
    "from collections import defaultdict\n",
    "\n",
    "dataroot = '/hdd/juma/data/net_intrusion/CIC-IDS-2018/CSVs/sk_sr_1.0'\n",
    "outputroot = dataroot + '_l'\n",
    "if not os.path.exists(outputroot):\n",
    "    os.makedirs(outputroot)"
   ]
  },
  {
   "cell_type": "code",
   "execution_count": 2,
   "metadata": {},
   "outputs": [],
   "source": [
    "def get_immediate_subdirectories(a_dir):\n",
    "    return [name for name in os.listdir(a_dir)\n",
    "            if os.path.isdir(os.path.join(a_dir, name)) and not 'archive' in name]\n",
    "\n",
    "\n",
    "def merge(dataroot):\n",
    "    folders = get_immediate_subdirectories(dataroot)\n",
    "    print(folders)\n",
    "    for folder in folders:\n",
    "        filenames = [i for i in glob.glob(join(dataroot,folder,'*.pcap_Flow.csv'))]\n",
    "        combined_csv = pd.concat([pd.read_csv(f) for f in filenames],sort=False)\n",
    "        combined_csv.to_csv(join(dataroot,folder+'_TrafficForML_CICFlowMeter.csv'),index=False,encoding='utf-8-sig')\n",
    "\n"
   ]
  },
  {
   "cell_type": "code",
   "execution_count": 3,
   "metadata": {},
   "outputs": [
    {
     "name": "stdout",
     "output_type": "stream",
     "text": [
      "['Friday-02-03-2018', 'Wednesday-21-02-2018', 'Friday-16-02-2018', 'Thursday-22-02-2018', 'Thursday-15-02-2018', 'Wednesday-14-02-2018', 'Wednesday-28-02-2018', 'Friday-23-02-2018', 'Thursday-01-03-2018', 'Tuesday-20-02-2018']\n"
     ]
    }
   ],
   "source": [
    "merge(dataroot)"
   ]
  },
  {
   "cell_type": "code",
   "execution_count": 4,
   "metadata": {},
   "outputs": [],
   "source": [
    "\n",
    "\n",
    "def label_flows (data, attackers, victims, attack_time, attack_names, check_only_source=False, infiltration=False):\n",
    "    data['Label']='Benign'\n",
    "    data['Timestamp'] = pd.to_datetime(data['Timestamp'],format='%d/%m/%Y %H:%M:%S %p')\n",
    "    #not_flipped=True\n",
    "    for ttx, attack_name in enumerate(attack_names):\n",
    "        for attacker in attackers[ttx]:\n",
    "            for victim in victims[ttx]:\n",
    "                    print('Labeling {}->{}'.format(attacker,victim))\n",
    "                    #if ttx == 0 and not_flipped:\n",
    "                    #    data[idx][0]= order_flowid(record[0])\n",
    "                    if infiltration:\n",
    "                        if check_only_source:\n",
    "                            attacker_flow = (data['Destination IP']==attacker) | (data['Source IP']==victim)\n",
    "                        else:\n",
    "                            attacker_flow = (data['Destination IP']==attacker) & (data['Source IP']==victim)\n",
    "                    else:\n",
    "                        if check_only_source:\n",
    "                            attacker_flow = (data['Source IP']==attacker)\n",
    "                        else:\n",
    "                            attacker_flow = (data['Source IP']==attacker)&(data['Destination IP']==victim)\n",
    "                        \n",
    "                        \n",
    "                    before = data['Timestamp']>=datetime.strptime(attack_time[ttx][0],'%d/%m/%Y %H:%M %p')\n",
    "                    after = data['Timestamp']<= datetime.strptime(attack_time[ttx][1], '%d/%m/%Y %H:%M %p')\n",
    "                            \n",
    "                    data.loc[attacker_flow & before & after, 'Label'] = attack_name\n",
    "\n",
    "            #not_flipped=False\n",
    "    return data\n",
    "\n",
    "# my rational for labeling bidirectionally is the fact that if the flow started from attacker is\n",
    "#intrusion the same flowid initiated by victim is also intrusion\n",
    "\n",
    "# I also saw that using bidirectional labeling I will have 4 flows in Day9\n",
    "#while using single direction check would give us 3 flows\n",
    "\n",
    "\n",
    "def label_flows_bidirectionally(data, attackers, victims, attack_time, attack_names):\n",
    "    data['Label']='Benign'\n",
    "    data['Timestamp'] = pd.to_datetime(data['Timestamp'],format='%d/%m/%Y %H:%M:%S %p')\n",
    "    #not_flipped=True\n",
    "    for ttx, attack_name in enumerate(attack_names):\n",
    "        for attacker in attackers[ttx]:\n",
    "            for victim in victims[ttx]:\n",
    "                    print('Labeling: {}->{}'.format(attacker,victim))\n",
    "                    #if ttx == 0 and not_flipped:\n",
    "                    #    data[idx][0]= order_flowid(record[0])\n",
    "                    attacker_flow1 = (data['Destination IP']==attacker) & (data['Source IP']==victim)\n",
    "                    attacker_flow2 = (data['Source IP']==attacker)&(data['Destination IP']==victim)\n",
    "                    attacker_flow = attacker_flow1 | attacker_flow2\n",
    "                        \n",
    "                    before = data['Timestamp']>=datetime.strptime(attack_time[ttx][0],'%d/%m/%Y %H:%M %p')\n",
    "                    after = data['Timestamp']<= datetime.strptime(attack_time[ttx][1], '%d/%m/%Y %H:%M %p')\n",
    "                            \n",
    "                    data.loc[attacker_flow & before & after, 'Label'] = attack_name\n",
    "\n",
    "            #not_flipped=False\n",
    "    return data\n",
    "\n",
    "\n",
    "#currently used for saving label_dist\n",
    "def save_dict_to_csv(filename,d):\n",
    "    with open(filename,'w') as f:\n",
    "        for key in sorted(d.keys()):\n",
    "            f.write('{},{}\\n'.format(key,d[key]))"
   ]
  },
  {
   "cell_type": "code",
   "execution_count": 5,
   "metadata": {},
   "outputs": [],
   "source": [
    "label_dist = defaultdict(lambda:0)"
   ]
  },
  {
   "cell_type": "markdown",
   "metadata": {},
   "source": [
    "# Day 1: FTP-BruteForce and SSH-BruteForce"
   ]
  },
  {
   "cell_type": "code",
   "execution_count": 6,
   "metadata": {},
   "outputs": [
    {
     "name": "stdout",
     "output_type": "stream",
     "text": [
      "Labeling: 18.221.219.4->172.31.69.25\n",
      "Labeling: 13.58.98.64->172.31.69.25\n",
      "SSH-BruteForce    14146\n",
      "FTP-BruteForce    14116\n",
      "Benign             1145\n",
      "Name: Label, dtype: int64\n"
     ]
    }
   ],
   "source": [
    "data = pd.read_csv(join(dataroot,'Wednesday-14-02-2018_TrafficForML_CICFlowMeter.csv'))\n",
    "\n",
    "attack_names = ['FTP-BruteForce','SSH-BruteForce']\n",
    "\n",
    "attackers = [['18.221.219.4'], ['13.58.98.64']]\n",
    "victims = [['172.31.69.25'],['172.31.69.25']]\n",
    "\n",
    "attack_times = [['14/02/2018 10:32 AM','14/02/2018 12:09 PM'], \n",
    "               ['14/02/2018 14:01 PM','14/02/2018 15:31 PM']]\n",
    "\n",
    "data = label_flows_bidirectionally(data, attackers, victims, attack_times, attack_names)  \n",
    "data.to_csv(join(outputroot,'Wednesday-14-02-2018_TrafficForML_CICFlowMeter.csv'),index=False,encoding='utf-8-sig')\n",
    "dist = data.Label.value_counts()\n",
    "print(dist)\n",
    "\n",
    "for k,v in dist.items():\n",
    "    label_dist[k]+= v"
   ]
  },
  {
   "cell_type": "code",
   "execution_count": null,
   "metadata": {},
   "outputs": [],
   "source": []
  },
  {
   "cell_type": "code",
   "execution_count": null,
   "metadata": {},
   "outputs": [],
   "source": []
  },
  {
   "cell_type": "code",
   "execution_count": null,
   "metadata": {},
   "outputs": [],
   "source": []
  },
  {
   "cell_type": "markdown",
   "metadata": {},
   "source": [
    "# Day 2: DoS-GoldenEye AND DoS-Slowloris\n"
   ]
  },
  {
   "cell_type": "code",
   "execution_count": 7,
   "metadata": {},
   "outputs": [
    {
     "name": "stdout",
     "output_type": "stream",
     "text": [
      "Labeling: 18.219.211.138->172.31.69.25\n",
      "Labeling: 18.217.165.70->172.31.69.25\n",
      "DoS-GoldenEye    14116\n",
      "DoS-Slowloris     6983\n",
      "Benign            1416\n",
      "Name: Label, dtype: int64\n"
     ]
    }
   ],
   "source": [
    "data = pd.read_csv(join(dataroot,'Thursday-15-02-2018_TrafficForML_CICFlowMeter.csv'))\n",
    "\n",
    "attack_names = ['DoS-GoldenEye','DoS-Slowloris']\n",
    "attackers = [['18.219.211.138'], ['18.217.165.70']]\n",
    "victims = [['172.31.69.25'],\n",
    "    ['172.31.69.25']]\n",
    "attack_times = [['15/02/2018 09:26 AM','15/02/2018 10:09 AM'], \n",
    "               ['15/02/2018 10:59 AM','15/02/2018 11:40 AM']]\n",
    "\n",
    "\n",
    "data = label_flows_bidirectionally(data, attackers,victims, attack_times, attack_names)  \n",
    "data.to_csv(join(outputroot,'Thursday-15-02-2018_TrafficForML_CICFlowMeter.csv'),index=False,encoding='utf-8-sig')\n",
    "dist = data.Label.value_counts()\n",
    "print(dist)\n",
    "for k,v in dist.items():\n",
    "    label_dist[k]+= v\n",
    "    \n"
   ]
  },
  {
   "cell_type": "markdown",
   "metadata": {},
   "source": [
    "# Day 3: DoS-SlowHTTPTest AND DoS-Hulk\n"
   ]
  },
  {
   "cell_type": "code",
   "execution_count": 8,
   "metadata": {},
   "outputs": [
    {
     "name": "stdout",
     "output_type": "stream",
     "text": [
      "Labeling: 13.59.126.31->172.31.69.25\n",
      "Labeling: 18.219.193.20->1\n",
      "Labeling: 18.219.193.20->7\n",
      "Labeling: 18.219.193.20->2\n",
      "Labeling: 18.219.193.20->.\n",
      "Labeling: 18.219.193.20->3\n",
      "Labeling: 18.219.193.20->1\n",
      "Labeling: 18.219.193.20->.\n",
      "Labeling: 18.219.193.20->6\n",
      "Labeling: 18.219.193.20->9\n",
      "Labeling: 18.219.193.20->.\n",
      "Labeling: 18.219.193.20->2\n",
      "Labeling: 18.219.193.20->5\n",
      "Benign              15322\n",
      "DoS-SlowHTTPTest    14116\n",
      "Name: Label, dtype: int64\n"
     ]
    }
   ],
   "source": [
    "data = pd.read_csv(join(dataroot,'Friday-16-02-2018_TrafficForML_CICFlowMeter.csv'))\n",
    "\n",
    "attack_names = ['DoS-SlowHTTPTest','DoS-Hulk']\n",
    "attackers = [['13.59.126.31'], ['18.219.193.20']]\n",
    "victims = [['172.31.69.25'],'172.31.69.25']\n",
    "\n",
    "attack_times = [['16/02/2018 10:12 AM','16/02/2018 11:08 AM'], \n",
    "               ['16/02/2018 13:45 PM','16/02/2018 14:19 PM']]\n",
    "\n",
    "\n",
    "data = label_flows_bidirectionally(data, attackers, victims, attack_times, attack_names)  \n",
    "data.to_csv(join(outputroot,'Friday-16-02-2018_TrafficForML_CICFlowMeter.csv'),index=False,encoding='utf-8-sig')\n",
    "dist = data.Label.value_counts()\n",
    "\n",
    "print(dist)\n",
    "for k,v in dist.items():\n",
    "    label_dist[k]+= v\n",
    "    \n"
   ]
  },
  {
   "cell_type": "markdown",
   "metadata": {},
   "source": [
    "#  Day 4: DDoS attacks-LOIC-HTTP AND DDoS-LOIC-UDP\n",
    "\n"
   ]
  },
  {
   "cell_type": "code",
   "execution_count": 9,
   "metadata": {},
   "outputs": [
    {
     "name": "stdout",
     "output_type": "stream",
     "text": [
      "Labeling: 18.218.115.60->172.31.69.25\n",
      "Labeling: 18.219.9.1->172.31.69.25\n",
      "Labeling: 18.219.32.43->172.31.69.25\n",
      "Labeling: 18.218.55.126->172.31.69.25\n",
      "Labeling: 52.14.136.135->172.31.69.25\n",
      "Labeling: 18.219.5.43->172.31.69.25\n",
      "Labeling: 18.216.200.189->172.31.69.25\n",
      "Labeling: 18.218.229.235->172.31.69.25\n",
      "Labeling: 18.218.11.51->172.31.69.25\n",
      "Labeling: 18.216.24.42->172.31.69.25\n",
      "Labeling: 18.218.115.60->172.31.69.25\n",
      "Labeling: 18.219.9.1->172.31.69.25\n",
      "Labeling: 18.219.32.43->172.31.69.25\n",
      "Labeling: 18.218.55.126->172.31.69.25\n",
      "Labeling: 52.14.136.135->172.31.69.25\n",
      "Labeling: 18.219.5.43->172.31.69.25\n",
      "Labeling: 18.216.200.189->172.31.69.25\n",
      "Labeling: 18.218.229.235->172.31.69.25\n",
      "Labeling: 18.218.11.51->172.31.69.25\n",
      "Labeling: 18.216.24.42->172.31.69.25\n",
      "DDoS attacks-LOIC-HTTP    163439\n",
      "Benign                       604\n",
      "DDoS-LOIC-UDP                100\n",
      "Name: Label, dtype: int64\n"
     ]
    }
   ],
   "source": [
    "data = pd.read_csv(join(dataroot,'Tuesday-20-02-2018_TrafficForML_CICFlowMeter.csv'))\n",
    "\n",
    "attack_names = ['DDoS attacks-LOIC-HTTP','DDoS-LOIC-UDP']\n",
    "attackers = [['18.218.115.60',\n",
    "                    '18.219.9.1',\n",
    "                    '18.219.32.43',\n",
    "                    '18.218.55.126',\n",
    "                    '52.14.136.135',\n",
    "                    '18.219.5.43',\n",
    "                    '18.216.200.189',\n",
    "                    '18.218.229.235',\n",
    "                    '18.218.11.51',\n",
    "                    '18.216.24.42'], \n",
    "                 ['18.218.115.60',\n",
    "                    '18.219.9.1',\n",
    "                    '18.219.32.43',\n",
    "                    '18.218.55.126',\n",
    "                    '52.14.136.135',\n",
    "                    '18.219.5.43',\n",
    "                    '18.216.200.189',\n",
    "                    '18.218.229.235',\n",
    "                    '18.218.11.51',\n",
    "                    '18.216.24.42']]\n",
    "victims = [['172.31.69.25'],\n",
    "['172.31.69.25']]\n",
    "\n",
    "attack_times = [['20/02/2018 10:12 AM','20/02/2018 11:17 AM'], \n",
    "               ['20/02/2018 13:13 PM','20/02/2018 13:32 PM']]\n",
    "\n",
    "data = label_flows_bidirectionally(data, attackers, victims, attack_times, attack_names)  \n",
    "data.to_csv(join(outputroot,'Tuesday-20-02-2018_TrafficForML_CICFlowMeter.csv'),index=False,encoding='utf-8-sig')\n",
    "\n",
    "dist = data.Label.value_counts()\n",
    "print(dist)\n",
    "for k,v in dist.items():\n",
    "    label_dist[k]+= v\n",
    "\n"
   ]
  },
  {
   "cell_type": "markdown",
   "metadata": {},
   "source": [
    "#  Day 5: DDOS attack-HOIC AND DDoS-LOIC-UDP\n"
   ]
  },
  {
   "cell_type": "code",
   "execution_count": 10,
   "metadata": {},
   "outputs": [
    {
     "name": "stdout",
     "output_type": "stream",
     "text": [
      "Labeling: 18.218.115.60->172.31.69.28\n",
      "Labeling: 18.219.9.1->172.31.69.28\n",
      "Labeling: 18.219.32.43->172.31.69.28\n",
      "Labeling: 18.218.55.126->172.31.69.28\n",
      "Labeling: 52.14.136.135->172.31.69.28\n",
      "Labeling: 18.219.5.43->172.31.69.28\n",
      "Labeling: 18.216.200.189->172.31.69.28\n",
      "Labeling: 18.218.229.235->172.31.69.28\n",
      "Labeling: 18.218.11.51->172.31.69.28\n",
      "Labeling: 18.216.24.42->172.31.69.28\n",
      "Labeling: 18.218.115.60->172.31.69.28\n",
      "Labeling: 18.219.9.1->172.31.69.28\n",
      "Labeling: 18.219.32.43->172.31.69.28\n",
      "Labeling: 18.218.55.126->172.31.69.28\n",
      "Labeling: 52.14.136.135->172.31.69.28\n",
      "Labeling: 18.219.5.43->172.31.69.28\n",
      "Labeling: 18.216.200.189->172.31.69.28\n",
      "Labeling: 18.218.229.235->172.31.69.28\n",
      "Labeling: 18.218.11.51->172.31.69.28\n",
      "Labeling: 18.216.24.42->172.31.69.28\n",
      "DDoS-HOIC        163750\n",
      "Benign              878\n",
      "DDoS-LOIC-UDP        94\n",
      "Name: Label, dtype: int64\n"
     ]
    }
   ],
   "source": [
    "data = pd.read_csv(join(dataroot,'Wednesday-21-02-2018_TrafficForML_CICFlowMeter.csv'))\n",
    "\n",
    "attack_names = ['DDoS-LOIC-UDP','DDoS-HOIC']\n",
    "attackers = [['18.218.115.60',\n",
    "                    '18.219.9.1',\n",
    "                    '18.219.32.43',\n",
    "                    '18.218.55.126',\n",
    "                    '52.14.136.135',\n",
    "                    '18.219.5.43',\n",
    "                    '18.216.200.189',\n",
    "                    '18.218.229.235',\n",
    "                    '18.218.11.51',\n",
    "                    '18.216.24.42'], \n",
    "                 ['18.218.115.60',\n",
    "                    '18.219.9.1',\n",
    "                    '18.219.32.43',\n",
    "                    '18.218.55.126',\n",
    "                    '52.14.136.135',\n",
    "                    '18.219.5.43',\n",
    "                    '18.216.200.189',\n",
    "                    '18.218.229.235',\n",
    "                    '18.218.11.51',\n",
    "                    '18.216.24.42']]\n",
    "victims = [['172.31.69.28'],['172.31.69.28']]\n",
    "attack_times = [['21/02/2018 10:09 AM','21/02/2018 10:43 AM'], \n",
    "               ['21/02/2018 14:05 PM','21/02/2018 15:05 PM']]\n",
    "\n",
    "data = label_flows_bidirectionally(data, attackers,victims, attack_times, attack_names)  \n",
    "data.to_csv(join(outputroot,'Wednesday-21-02-2018_TrafficForML_CICFlowMeter.csv'),index=False,encoding='utf-8-sig')\n",
    "dist = data.Label.value_counts()\n",
    "print(dist)\n",
    "for k,v in dist.items():\n",
    "    label_dist[k]+= v\n",
    "    \n"
   ]
  },
  {
   "cell_type": "markdown",
   "metadata": {},
   "source": [
    "#  Day 6: Brute Force -Web AND Brute Force -XSS AND SQL Injection\n",
    "\n",
    "\n",
    "# Brute Force -Web"
   ]
  },
  {
   "cell_type": "code",
   "execution_count": 11,
   "metadata": {},
   "outputs": [
    {
     "name": "stdout",
     "output_type": "stream",
     "text": [
      "Labeling: 18.218.115.60->172.31.69.28\n",
      "Labeling: 18.218.115.60->172.31.69.28\n",
      "Labeling: 18.218.115.60->172.31.69.28\n",
      "Benign             1164\n",
      "Brute Force-Web     137\n",
      "Brute Force-XSS      42\n",
      "SQL Injection        17\n",
      "Name: Label, dtype: int64\n"
     ]
    }
   ],
   "source": [
    "data = pd.read_csv(join(dataroot,'Thursday-22-02-2018_TrafficForML_CICFlowMeter.csv'))\n",
    "\n",
    "attack_names = ['Brute Force-Web','Brute Force-XSS','SQL Injection']\n",
    "attackers = [['18.218.115.60'], \n",
    "                 ['18.218.115.60'],\n",
    "                 ['18.218.115.60']]\n",
    "victims = [['172.31.69.28'],\n",
    "          ['172.31.69.28'],\n",
    "          ['172.31.69.28']]\n",
    "\n",
    "attack_times = [['22/02/2018 10:17 AM','22/02/2018 11:24 AM'], \n",
    "               ['22/02/2018 13:50 PM','22/02/2018 14:29 PM'],\n",
    "               ['22/02/2018 16:15 PM','22/02/2018 16:29 PM']]\n",
    "\n",
    "data = label_flows_bidirectionally(data, attackers, victims, attack_times, attack_names)  \n",
    "data.to_csv(join(outputroot,'Thursday-22-02-2018_TrafficForML_CICFlowMeter.csv'),index=False,encoding='utf-8-sig')\n",
    "dist = data.Label.value_counts()\n",
    "print(dist)\n",
    "for k,v in dist.items():\n",
    "    label_dist[k]+= v\n",
    "\n"
   ]
  },
  {
   "cell_type": "code",
   "execution_count": null,
   "metadata": {},
   "outputs": [],
   "source": []
  },
  {
   "cell_type": "code",
   "execution_count": 12,
   "metadata": {},
   "outputs": [],
   "source": [
    "#data[(data['Source IP']=='18.218.115.60') & (data['Destination IP']=='172.31.69.28') ].sort_values(by=['Timestamp'])"
   ]
  },
  {
   "cell_type": "markdown",
   "metadata": {},
   "source": [
    "#  Day 7: Brute Force -Web AND Brute Force -XSS AND SQL Injection\n"
   ]
  },
  {
   "cell_type": "code",
   "execution_count": 13,
   "metadata": {},
   "outputs": [
    {
     "name": "stdout",
     "output_type": "stream",
     "text": [
      "Labeling: 18.218.115.60->172.31.69.28\n",
      "Labeling: 18.218.115.60->172.31.69.28\n",
      "Labeling: 18.218.115.60->172.31.69.28\n",
      "Benign             975\n",
      "Brute Force-Web    123\n",
      "Brute Force-XSS     72\n",
      "SQL Injection       31\n",
      "Name: Label, dtype: int64\n"
     ]
    }
   ],
   "source": [
    "data = pd.read_csv(join(dataroot,'Friday-23-02-2018_TrafficForML_CICFlowMeter.csv'))\n",
    "\n",
    "attack_names = ['Brute Force-Web','Brute Force-XSS','SQL Injection']\n",
    "attackers = [['18.218.115.60'], \n",
    "                 ['18.218.115.60'],\n",
    "                 ['18.218.115.60']]\n",
    "\n",
    "attack_times = [['23/02/2018 10:03 AM','23/02/2018 11:03 AM'], \n",
    "               ['23/02/2018 13:00 PM','23/02/2018 14:10 PM'],\n",
    "               ['23/02/2018 15:05 PM','23/02/2018 15:18 PM']]\n",
    "\n",
    "data = label_flows_bidirectionally(data, attackers, victims, attack_times, attack_names)  \n",
    "data.to_csv(join(outputroot,'Friday-23-02-2018_TrafficForML_CICFlowMeter.csv'),index=False,encoding='utf-8-sig')\n",
    "dist = data.Label.value_counts()\n",
    "print(dist)\n",
    "for k,v in dist.items():\n",
    "    label_dist[k]+= v\n",
    "\n"
   ]
  },
  {
   "cell_type": "markdown",
   "metadata": {},
   "source": [
    "#  Day 8: Infiltration"
   ]
  },
  {
   "cell_type": "code",
   "execution_count": 14,
   "metadata": {},
   "outputs": [
    {
     "name": "stdout",
     "output_type": "stream",
     "text": [
      "Labeling: 13.58.225.34->172.31.69.24\n",
      "Labeling: 13.58.225.34->172.31.69.24\n",
      "Benign          197959\n",
      "Infiltration         1\n",
      "Name: Label, dtype: int64\n"
     ]
    }
   ],
   "source": [
    "data = pd.read_csv(join(dataroot,'Wednesday-28-02-2018_TrafficForML_CICFlowMeter.csv'))\n",
    "\n",
    "attack_names = ['Infiltration','Infiltration']\n",
    "attackers = [['13.58.225.34'], \n",
    "                 ['13.58.225.34']]\n",
    "victims = [['172.31.69.24'],\n",
    "    ['172.31.69.24']]\n",
    "\n",
    "attack_times = [['28/02/2018 10:50 AM','28/02/2018 12:05 PM'], \n",
    "               ['28/02/2018 13:42 PM','28/02/2018 14:40 PM']]\n",
    "\n",
    "data = label_flows_bidirectionally(data, attackers, victims, attack_times, attack_names)  \n",
    "data.to_csv(join(outputroot,'Wednesday-28-02-2018_TrafficForML_CICFlowMeter.csv'),index=False,encoding='utf-8-sig')\n",
    "dist = data.Label.value_counts()\n",
    "print(dist)\n",
    "\n",
    "for k,v in dist.items():\n",
    "    label_dist[k]+= v\n",
    "    \n"
   ]
  },
  {
   "cell_type": "markdown",
   "metadata": {},
   "source": [
    "#  Day 9: Infiltration"
   ]
  },
  {
   "cell_type": "code",
   "execution_count": 15,
   "metadata": {},
   "outputs": [
    {
     "name": "stdout",
     "output_type": "stream",
     "text": [
      "Labeling: 13.58.225.34->172.31.69.13\n",
      "Labeling: 13.58.225.34->172.31.69.13\n",
      "Benign          166639\n",
      "Infiltration         4\n",
      "Name: Label, dtype: int64\n"
     ]
    }
   ],
   "source": [
    "data = pd.read_csv(join(dataroot,'Thursday-01-03-2018_TrafficForML_CICFlowMeter.csv'))\n",
    "\n",
    "attack_names = ['Infiltration','Infiltration']\n",
    "attackers = [['13.58.225.34'], \n",
    "                 ['13.58.225.34']]\n",
    "victims = [['172.31.69.13'],\n",
    "              ['172.31.69.13']]\n",
    "attack_times = [['01/03/2018 09:57 AM','01/03/2018 10:55 AM'], \n",
    "               ['01/03/2018 14:00 PM','01/03/2018 15:37 PM']]\n",
    "\n",
    "\n",
    "data = label_flows_bidirectionally(data, attackers, victims, attack_times, attack_names)  \n",
    "data.to_csv(join(outputroot,'Thursday-01-03-2018_TrafficForML_CICFlowMeter.csv'),index=False,encoding='utf-8-sig')\n",
    "\n",
    "dist = data.Label.value_counts()\n",
    "print(dist)\n",
    "for k,v in dist.items():\n",
    "    label_dist[k]+= v\n",
    "    \n",
    "save_dict_to_csv(join(outputroot,'label_dist.csv'),label_dist)"
   ]
  }
 ],
 "metadata": {
  "kernelspec": {
   "display_name": "Python 3",
   "language": "python",
   "name": "python3"
  },
  "language_info": {
   "codemirror_mode": {
    "name": "ipython",
    "version": 3
   },
   "file_extension": ".py",
   "mimetype": "text/x-python",
   "name": "python",
   "nbconvert_exporter": "python",
   "pygments_lexer": "ipython3",
   "version": "3.7.6"
  }
 },
 "nbformat": 4,
 "nbformat_minor": 2
}
