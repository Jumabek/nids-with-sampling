{
 "cells": [
  {
   "cell_type": "code",
   "execution_count": 1,
   "metadata": {},
   "outputs": [],
   "source": [
    "import pandas as pd\n",
    "import os\n",
    "from os.path import join\n",
    "import numpy as np\n",
    "import math\n",
    "import ntpath\n"
   ]
  },
  {
   "cell_type": "code",
   "execution_count": 43,
   "metadata": {},
   "outputs": [],
   "source": [
    "def get_sampling_dirs(a_dir, only=''):\n",
    "    if only=='':\n",
    "        return [os.path.join(a_dir, name) for name in os.listdir(a_dir) \n",
    "                if os.path.isdir(os.path.join(a_dir, name)) and name.endswith('_l')]"
   ]
  },
  {
   "cell_type": "code",
   "execution_count": 59,
   "metadata": {},
   "outputs": [
    {
     "data": {
      "text/plain": [
       "['/home/juma/data/net_intrusion/CIC-IDS-2018/CSVs/SR_10/SEL_(1100,1,1)_l',\n",
       " '/home/juma/data/net_intrusion/CIC-IDS-2018/CSVs/SR_10/SFS_SI_9.77_l',\n",
       " '/home/juma/data/net_intrusion/CIC-IDS-2018/CSVs/SR_10/RPS_SI_10_l',\n",
       " '/home/juma/data/net_intrusion/CIC-IDS-2018/CSVs/SR_10/SGS_e_0.0003_l',\n",
       " '/home/juma/data/net_intrusion/CIC-IDS-2018/CSVs/SR_10/FFS_(8,16,4)_l']"
      ]
     },
     "execution_count": 59,
     "metadata": {},
     "output_type": "execute_result"
    }
   ],
   "source": [
    "root = '/data/juma/data/ids18/CSVs_r_1.0/SR_10/'\n",
    "samplers = get_sampling_dirs(root)\n",
    "samplers"
   ]
  },
  {
   "cell_type": "code",
   "execution_count": 2,
   "metadata": {},
   "outputs": [],
   "source": [
    "classifier_fingerprints = [\n",
    "    'r_1_c_tree_k_5_b_explicit',\n",
    "    'r_1_c_forest_k_5_b_explicit_n_10_bootstrap_True_mf_auto',\n",
    "    'r_1_c_softmax_k_5_optim_Adam_lr_0.001_reg_0_bs_256_b_explicit',\n",
    "    'r_1_c_cnn_k_5_optim_Adam_lr_0.001_reg_0_bs_256_b_explicit']   "
   ]
  },
  {
   "cell_type": "code",
   "execution_count": 68,
   "metadata": {},
   "outputs": [
    {
     "name": "stdout",
     "output_type": "stream",
     "text": [
      "FFS_(8,16,4)_l                \t|\t3.0\t|\t2.8\t|\t0.9\t|\t0.7\t|\t\n",
      "RPS_SI_10_l                   \t|\t2.9\t|\t2.5\t|\t1.0\t|\t3.4\t|\t\n",
      "SEL_(1100,1,1)_l              \t|\t2.5\t|\t3.2\t|\t2.1\t|\t1.7\t|\t\n",
      "SFS_SI_9.77_l                 \t|\t0.5\t|\t3.5\t|\t0.6\t|\t0.7\t|\t\n",
      "SGS_e_0.0003_l                \t|\t3.8\t|\t3.6\t|\t1.5\t|\t3.7\t|\t\n"
     ]
    }
   ],
   "source": [
    "K = 5\n",
    "for sampler in sorted(samplers):\n",
    "    sname = ntpath.split(sampler)[1]\n",
    "    print(\"{:30}\".format(sname),end='\\t|\\t')\n",
    "    for classifier_fingerprint in classifier_fingerprints:\n",
    "        dr_l = []\n",
    "        for k in range(K):\n",
    "            df = pd.read_csv(join(sampler,classifier_fingerprint,'recall/Kfold/',str(k),'majority/detection_rate.csv'))\n",
    "            #print(df)\n",
    "            macro_avg_dt = df[df['Label']=='Macro Average of Attacks']['Rc'].values[0]\n",
    "            dr_l.append(macro_avg_dt)\n",
    "        dr_l = np.array(dr_l)\n",
    "        m = np.mean(dr_l)\n",
    "        std = math.sqrt(np.sum((dr_l - m)*(dr_l - m))/K)\n",
    "        \n",
    "        print('{:.1f}'.format(std),end='\\t|\\t')\n",
    "    print()\n",
    "        "
   ]
  },
  {
   "cell_type": "code",
   "execution_count": null,
   "metadata": {},
   "outputs": [],
   "source": []
  }
 ],
 "metadata": {
  "kernelspec": {
   "display_name": "Python 3",
   "language": "python",
   "name": "python3"
  },
  "language_info": {
   "codemirror_mode": {
    "name": "ipython",
    "version": 3
   },
   "file_extension": ".py",
   "mimetype": "text/x-python",
   "name": "python",
   "nbconvert_exporter": "python",
   "pygments_lexer": "ipython3",
   "version": "3.5.2"
  }
 },
 "nbformat": 4,
 "nbformat_minor": 2
}
