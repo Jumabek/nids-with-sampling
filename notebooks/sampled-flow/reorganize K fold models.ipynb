{
 "cells": [
  {
   "cell_type": "code",
   "execution_count": 14,
   "id": "cardiac-reservoir",
   "metadata": {},
   "outputs": [],
   "source": [
    "from glob import glob\n",
    "import os\n",
    "from os.path import join"
   ]
  },
  {
   "cell_type": "code",
   "execution_count": 18,
   "id": "sacred-implement",
   "metadata": {},
   "outputs": [
    {
     "data": {
      "text/html": [
       "<style>.container { width:80% !important; }</style>"
      ],
      "text/plain": [
       "<IPython.core.display.HTML object>"
      ]
     },
     "metadata": {},
     "output_type": "display_data"
    }
   ],
   "source": [
    "from IPython.core.display import display, HTML\n",
    "display(HTML(\"<style>.container { width:80% !important; }</style>\"))"
   ]
  },
  {
   "cell_type": "code",
   "execution_count": 36,
   "id": "occasional-winner",
   "metadata": {},
   "outputs": [
    {
     "name": "stdout",
     "output_type": "stream",
     "text": [
      "/data/juma/data/net_intrusion/ids18/CSVs_r_1.0_m_1.0/SI_10/SRS_SI_10_l/c_tree_b_explicit_mf_auto_msl_3_md_25/log/10fold_2.pkl\n",
      "/data/juma/data/net_intrusion/ids18/CSVs_r_1.0_m_1.0/SI_10/SRS_SI_10_l/c_tree_b_explicit_mf_auto_msl_3_md_25/log/10fold_3.pkl\n",
      "/data/juma/data/net_intrusion/ids18/CSVs_r_1.0_m_1.0/SI_10/SRS_SI_10_l/c_tree_b_explicit_mf_auto_msl_3_md_25/log/10fold_4.pkl\n",
      "/data/juma/data/net_intrusion/ids18/CSVs_r_1.0_m_1.0/SI_10/SRS_SI_10_l/c_tree_b_explicit_mf_auto_msl_3_md_25/log/10fold_6.pkl\n",
      "/data/juma/data/net_intrusion/ids18/CSVs_r_1.0_m_1.0/SI_10/SRS_SI_10_l/c_tree_b_explicit_mf_auto_msl_3_md_25/log/10fold_0.pkl\n",
      "/data/juma/data/net_intrusion/ids18/CSVs_r_1.0_m_1.0/SI_10/SRS_SI_10_l/c_tree_b_explicit_mf_auto_msl_3_md_25/log/10fold_5.pkl\n",
      "/data/juma/data/net_intrusion/ids18/CSVs_r_1.0_m_1.0/SI_10/SRS_SI_10_l/c_tree_b_explicit_mf_auto_msl_3_md_25/log/10fold_7.pkl\n",
      "/data/juma/data/net_intrusion/ids18/CSVs_r_1.0_m_1.0/SI_10/SRS_SI_10_l/c_tree_b_explicit_mf_auto_msl_3_md_25/log/10fold_1.pkl\n",
      "/data/juma/data/net_intrusion/ids18/CSVs_r_1.0_m_1.0/SI_10/SRS_SI_10_l/c_forest_b_explicit_n_100_bootstrap_True_mf_auto_msl_3_ms_0.01_md_25/log/10fold_2.pkl\n",
      "/data/juma/data/net_intrusion/ids18/CSVs_r_1.0_m_1.0/SI_10/SRS_SI_10_l/c_forest_b_explicit_n_100_bootstrap_True_mf_auto_msl_3_ms_0.01_md_25/log/10fold_3.pkl\n",
      "/data/juma/data/net_intrusion/ids18/CSVs_r_1.0_m_1.0/SI_10/SRS_SI_10_l/c_forest_b_explicit_n_100_bootstrap_True_mf_auto_msl_3_ms_0.01_md_25/log/10fold_9.pkl\n",
      "/data/juma/data/net_intrusion/ids18/CSVs_r_1.0_m_1.0/SI_10/SRS_SI_10_l/c_forest_b_explicit_n_100_bootstrap_True_mf_auto_msl_3_ms_0.01_md_25/log/10fold_4.pkl\n",
      "/data/juma/data/net_intrusion/ids18/CSVs_r_1.0_m_1.0/SI_10/SRS_SI_10_l/c_forest_b_explicit_n_100_bootstrap_True_mf_auto_msl_3_ms_0.01_md_25/log/10fold_6.pkl\n",
      "/data/juma/data/net_intrusion/ids18/CSVs_r_1.0_m_1.0/SI_10/SRS_SI_10_l/c_forest_b_explicit_n_100_bootstrap_True_mf_auto_msl_3_ms_0.01_md_25/log/10fold_0.pkl\n",
      "/data/juma/data/net_intrusion/ids18/CSVs_r_1.0_m_1.0/SI_10/SRS_SI_10_l/c_forest_b_explicit_n_100_bootstrap_True_mf_auto_msl_3_ms_0.01_md_25/log/10fold_5.pkl\n",
      "/data/juma/data/net_intrusion/ids18/CSVs_r_1.0_m_1.0/SI_10/SRS_SI_10_l/c_forest_b_explicit_n_100_bootstrap_True_mf_auto_msl_3_ms_0.01_md_25/log/10fold_7.pkl\n",
      "/data/juma/data/net_intrusion/ids18/CSVs_r_1.0_m_1.0/SI_10/SRS_SI_10_l/c_forest_b_explicit_n_100_bootstrap_True_mf_auto_msl_3_ms_0.01_md_25/log/10fold_8.pkl\n",
      "/data/juma/data/net_intrusion/ids18/CSVs_r_1.0_m_1.0/SI_10/SRS_SI_10_l/c_forest_b_explicit_n_100_bootstrap_True_mf_auto_msl_3_ms_0.01_md_25/log/10fold_1.pkl\n",
      "/data/juma/data/net_intrusion/ids18/CSVs_r_1.0_m_1.0/SI_10/SGS_e_0.05_l/c_tree_b_explicit_mf_auto_msl_3_md_25/log/10fold_2.pkl\n",
      "/data/juma/data/net_intrusion/ids18/CSVs_r_1.0_m_1.0/SI_10/SGS_e_0.05_l/c_tree_b_explicit_mf_auto_msl_3_md_25/log/10fold_3.pkl\n",
      "/data/juma/data/net_intrusion/ids18/CSVs_r_1.0_m_1.0/SI_10/SGS_e_0.05_l/c_tree_b_explicit_mf_auto_msl_3_md_25/log/10fold_9.pkl\n",
      "/data/juma/data/net_intrusion/ids18/CSVs_r_1.0_m_1.0/SI_10/SGS_e_0.05_l/c_tree_b_explicit_mf_auto_msl_3_md_25/log/10fold_4.pkl\n",
      "/data/juma/data/net_intrusion/ids18/CSVs_r_1.0_m_1.0/SI_10/SGS_e_0.05_l/c_tree_b_explicit_mf_auto_msl_3_md_25/log/10fold_6.pkl\n",
      "/data/juma/data/net_intrusion/ids18/CSVs_r_1.0_m_1.0/SI_10/SGS_e_0.05_l/c_tree_b_explicit_mf_auto_msl_3_md_25/log/10fold_0.pkl\n",
      "/data/juma/data/net_intrusion/ids18/CSVs_r_1.0_m_1.0/SI_10/SGS_e_0.05_l/c_tree_b_explicit_mf_auto_msl_3_md_25/log/10fold_5.pkl\n",
      "/data/juma/data/net_intrusion/ids18/CSVs_r_1.0_m_1.0/SI_10/SGS_e_0.05_l/c_tree_b_explicit_mf_auto_msl_3_md_25/log/10fold_7.pkl\n",
      "/data/juma/data/net_intrusion/ids18/CSVs_r_1.0_m_1.0/SI_10/SGS_e_0.05_l/c_tree_b_explicit_mf_auto_msl_3_md_25/log/10fold_8.pkl\n",
      "/data/juma/data/net_intrusion/ids18/CSVs_r_1.0_m_1.0/SI_10/SGS_e_0.05_l/c_tree_b_explicit_mf_auto_msl_3_md_25/log/10fold_1.pkl\n",
      "/data/juma/data/net_intrusion/ids18/CSVs_r_1.0_m_1.0/SI_10/SGS_e_0.05_l/c_forest_b_explicit_n_100_bootstrap_True_mf_auto_msl_3_ms_0.01_md_25/log/10fold_2.pkl\n",
      "/data/juma/data/net_intrusion/ids18/CSVs_r_1.0_m_1.0/SI_10/SGS_e_0.05_l/c_forest_b_explicit_n_100_bootstrap_True_mf_auto_msl_3_ms_0.01_md_25/log/10fold_3.pkl\n",
      "/data/juma/data/net_intrusion/ids18/CSVs_r_1.0_m_1.0/SI_10/SGS_e_0.05_l/c_forest_b_explicit_n_100_bootstrap_True_mf_auto_msl_3_ms_0.01_md_25/log/10fold_9.pkl\n",
      "/data/juma/data/net_intrusion/ids18/CSVs_r_1.0_m_1.0/SI_10/SGS_e_0.05_l/c_forest_b_explicit_n_100_bootstrap_True_mf_auto_msl_3_ms_0.01_md_25/log/10fold_4.pkl\n",
      "/data/juma/data/net_intrusion/ids18/CSVs_r_1.0_m_1.0/SI_10/SGS_e_0.05_l/c_forest_b_explicit_n_100_bootstrap_True_mf_auto_msl_3_ms_0.01_md_25/log/10fold_6.pkl\n",
      "/data/juma/data/net_intrusion/ids18/CSVs_r_1.0_m_1.0/SI_10/SGS_e_0.05_l/c_forest_b_explicit_n_100_bootstrap_True_mf_auto_msl_3_ms_0.01_md_25/log/10fold_0.pkl\n",
      "/data/juma/data/net_intrusion/ids18/CSVs_r_1.0_m_1.0/SI_10/SGS_e_0.05_l/c_forest_b_explicit_n_100_bootstrap_True_mf_auto_msl_3_ms_0.01_md_25/log/10fold_5.pkl\n",
      "/data/juma/data/net_intrusion/ids18/CSVs_r_1.0_m_1.0/SI_10/SGS_e_0.05_l/c_forest_b_explicit_n_100_bootstrap_True_mf_auto_msl_3_ms_0.01_md_25/log/10fold_7.pkl\n",
      "/data/juma/data/net_intrusion/ids18/CSVs_r_1.0_m_1.0/SI_10/SGS_e_0.05_l/c_forest_b_explicit_n_100_bootstrap_True_mf_auto_msl_3_ms_0.01_md_25/log/10fold_8.pkl\n",
      "/data/juma/data/net_intrusion/ids18/CSVs_r_1.0_m_1.0/SI_10/SGS_e_0.05_l/c_forest_b_explicit_n_100_bootstrap_True_mf_auto_msl_3_ms_0.01_md_25/log/10fold_1.pkl\n",
      "/data/juma/data/net_intrusion/ids18/CSVs_r_1.0_m_1.0/SI_10/SFS_SI_9.77_l/c_tree_b_explicit_mf_auto_msl_3_md_25/log/10fold_2.pkl\n",
      "/data/juma/data/net_intrusion/ids18/CSVs_r_1.0_m_1.0/SI_10/SFS_SI_9.77_l/c_tree_b_explicit_mf_auto_msl_3_md_25/log/10fold_3.pkl\n",
      "/data/juma/data/net_intrusion/ids18/CSVs_r_1.0_m_1.0/SI_10/SFS_SI_9.77_l/c_tree_b_explicit_mf_auto_msl_3_md_25/log/10fold_9.pkl\n",
      "/data/juma/data/net_intrusion/ids18/CSVs_r_1.0_m_1.0/SI_10/SFS_SI_9.77_l/c_tree_b_explicit_mf_auto_msl_3_md_25/log/10fold_4.pkl\n",
      "/data/juma/data/net_intrusion/ids18/CSVs_r_1.0_m_1.0/SI_10/SFS_SI_9.77_l/c_tree_b_explicit_mf_auto_msl_3_md_25/log/10fold_6.pkl\n",
      "/data/juma/data/net_intrusion/ids18/CSVs_r_1.0_m_1.0/SI_10/SFS_SI_9.77_l/c_tree_b_explicit_mf_auto_msl_3_md_25/log/10fold_0.pkl\n",
      "/data/juma/data/net_intrusion/ids18/CSVs_r_1.0_m_1.0/SI_10/SFS_SI_9.77_l/c_tree_b_explicit_mf_auto_msl_3_md_25/log/10fold_5.pkl\n",
      "/data/juma/data/net_intrusion/ids18/CSVs_r_1.0_m_1.0/SI_10/SFS_SI_9.77_l/c_tree_b_explicit_mf_auto_msl_3_md_25/log/10fold_7.pkl\n",
      "/data/juma/data/net_intrusion/ids18/CSVs_r_1.0_m_1.0/SI_10/SFS_SI_9.77_l/c_tree_b_explicit_mf_auto_msl_3_md_25/log/10fold_8.pkl\n",
      "/data/juma/data/net_intrusion/ids18/CSVs_r_1.0_m_1.0/SI_10/SFS_SI_9.77_l/c_tree_b_explicit_mf_auto_msl_3_md_25/log/10fold_1.pkl\n",
      "/data/juma/data/net_intrusion/ids18/CSVs_r_1.0_m_1.0/SI_10/SFS_SI_9.77_l/c_forest_b_explicit_n_100_bootstrap_True_mf_auto_msl_3_ms_0.01_md_25/log/10fold_2.pkl\n",
      "/data/juma/data/net_intrusion/ids18/CSVs_r_1.0_m_1.0/SI_10/SFS_SI_9.77_l/c_forest_b_explicit_n_100_bootstrap_True_mf_auto_msl_3_ms_0.01_md_25/log/10fold_3.pkl\n",
      "/data/juma/data/net_intrusion/ids18/CSVs_r_1.0_m_1.0/SI_10/SFS_SI_9.77_l/c_forest_b_explicit_n_100_bootstrap_True_mf_auto_msl_3_ms_0.01_md_25/log/10fold_9.pkl\n",
      "/data/juma/data/net_intrusion/ids18/CSVs_r_1.0_m_1.0/SI_10/SFS_SI_9.77_l/c_forest_b_explicit_n_100_bootstrap_True_mf_auto_msl_3_ms_0.01_md_25/log/10fold_4.pkl\n",
      "/data/juma/data/net_intrusion/ids18/CSVs_r_1.0_m_1.0/SI_10/SFS_SI_9.77_l/c_forest_b_explicit_n_100_bootstrap_True_mf_auto_msl_3_ms_0.01_md_25/log/10fold_6.pkl\n",
      "/data/juma/data/net_intrusion/ids18/CSVs_r_1.0_m_1.0/SI_10/SFS_SI_9.77_l/c_forest_b_explicit_n_100_bootstrap_True_mf_auto_msl_3_ms_0.01_md_25/log/10fold_0.pkl\n",
      "/data/juma/data/net_intrusion/ids18/CSVs_r_1.0_m_1.0/SI_10/SFS_SI_9.77_l/c_forest_b_explicit_n_100_bootstrap_True_mf_auto_msl_3_ms_0.01_md_25/log/10fold_5.pkl\n",
      "/data/juma/data/net_intrusion/ids18/CSVs_r_1.0_m_1.0/SI_10/SFS_SI_9.77_l/c_forest_b_explicit_n_100_bootstrap_True_mf_auto_msl_3_ms_0.01_md_25/log/10fold_7.pkl\n",
      "/data/juma/data/net_intrusion/ids18/CSVs_r_1.0_m_1.0/SI_10/SFS_SI_9.77_l/c_forest_b_explicit_n_100_bootstrap_True_mf_auto_msl_3_ms_0.01_md_25/log/10fold_8.pkl\n",
      "/data/juma/data/net_intrusion/ids18/CSVs_r_1.0_m_1.0/SI_10/SFS_SI_9.77_l/c_forest_b_explicit_n_100_bootstrap_True_mf_auto_msl_3_ms_0.01_md_25/log/10fold_1.pkl\n"
     ]
    }
   ],
   "source": [
    "d = '/data/juma/data/net_intrusion/ids18/CSVs_r_1.0_m_1.0/SI_10/'\n",
    "clf_fingerprints = ['c_tree_b_explicit_mf_auto_msl_3_md_25', 'c_forest_b_explicit_n_100_bootstrap_True_mf_auto_msl_3_ms_0.01_md_25']\n",
    "for samplerdir in glob(join(d,'*_l')):\n",
    "    for clf_f in clf_fingerprints:\n",
    "        fold_logdir = join(samplerdir, clf_f, 'log')\n",
    "        for fn in glob(join(fold_logdir,'10fold_*.pkl')):\n",
    "            print(fn)\n",
    "            fold_index = fn[-5:-4]\n",
    "            fold_dir = join(fold_logdir,fold_index)\n",
    "            if not os.path.exists(fold_dir):\n",
    "                os.makedirs(fold_dir)\n",
    "            \n",
    "            os.rename(fn,join(fold_logdir,fold_index,'model.pkl'))"
   ]
  },
  {
   "cell_type": "code",
   "execution_count": null,
   "id": "abstract-heating",
   "metadata": {},
   "outputs": [],
   "source": []
  }
 ],
 "metadata": {
  "kernelspec": {
   "display_name": "Python [conda env:nids] *",
   "language": "python",
   "name": "conda-env-nids-py"
  },
  "language_info": {
   "codemirror_mode": {
    "name": "ipython",
    "version": 3
   },
   "file_extension": ".py",
   "mimetype": "text/x-python",
   "name": "python",
   "nbconvert_exporter": "python",
   "pygments_lexer": "ipython3",
   "version": "3.7.10"
  }
 },
 "nbformat": 4,
 "nbformat_minor": 5
}
